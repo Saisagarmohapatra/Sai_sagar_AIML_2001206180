{
  "nbformat": 4,
  "nbformat_minor": 0,
  "metadata": {
    "colab": {
      "provenance": [],
      "authorship_tag": "ABX9TyPhhee2yDg97bLb8TRYPh7a",
      "include_colab_link": true
    },
    "kernelspec": {
      "name": "python3",
      "display_name": "Python 3"
    },
    "language_info": {
      "name": "python"
    }
  },
  "cells": [
    {
      "cell_type": "markdown",
      "metadata": {
        "id": "view-in-github",
        "colab_type": "text"
      },
      "source": [
        "<a href=\"https://colab.research.google.com/github/Saisagarmohapatra/Sai_sagar_AIML_2001206180/blob/main/using_nested_for%2Cwhile_looping_structure_part(1)_python.ipynb\" target=\"_parent\"><img src=\"https://colab.research.google.com/assets/colab-badge.svg\" alt=\"Open In Colab\"/></a>"
      ]
    },
    {
      "cell_type": "markdown",
      "source": [
        "Separately , Using nested for, while looping structure for the following programs:\n",
        "\n",
        "Using For loop"
      ],
      "metadata": {
        "id": "Zh5OJd3vACLc"
      }
    },
    {
      "cell_type": "markdown",
      "source": [
        "1(a)"
      ],
      "metadata": {
        "id": "lFXx9dIWE3Av"
      }
    },
    {
      "cell_type": "code",
      "source": [
        "for i in range(0,6):\n",
        "  for j in  range(i):\n",
        "    print(i,end=' ')\n",
        "  print()"
      ],
      "metadata": {
        "colab": {
          "base_uri": "https://localhost:8080/"
        },
        "id": "PstgY6ufAQjF",
        "outputId": "a485bce7-7c35-4eb2-c08b-d50fad70dc06"
      },
      "execution_count": 1,
      "outputs": [
        {
          "output_type": "stream",
          "name": "stdout",
          "text": [
            "\n",
            "1 \n",
            "2 2 \n",
            "3 3 3 \n",
            "4 4 4 4 \n",
            "5 5 5 5 5 \n"
          ]
        }
      ]
    },
    {
      "cell_type": "markdown",
      "source": [
        "1(b)"
      ],
      "metadata": {
        "id": "wvR260tuAkbw"
      }
    },
    {
      "cell_type": "code",
      "source": [
        "for i in range(5,0,-1):\n",
        "  for j in  range(0,i):\n",
        "    print(i,end=' ')\n",
        "  print()"
      ],
      "metadata": {
        "colab": {
          "base_uri": "https://localhost:8080/"
        },
        "id": "O4ym1jiRBGJV",
        "outputId": "3e59b577-b795-4308-eb03-f99716dd8841"
      },
      "execution_count": 2,
      "outputs": [
        {
          "output_type": "stream",
          "name": "stdout",
          "text": [
            "5 5 5 5 5 \n",
            "4 4 4 4 \n",
            "3 3 3 \n",
            "2 2 \n",
            "1 \n"
          ]
        }
      ]
    },
    {
      "cell_type": "markdown",
      "source": [
        "1(c)"
      ],
      "metadata": {
        "id": "WGZs29GTBKrG"
      }
    },
    {
      "cell_type": "code",
      "source": [
        "n=int(input(\"Enter a number: \"))\n",
        "for i in range(0,n):\n",
        "  for j in  range(i):\n",
        "    print(i+1,end=' ')\n",
        "  print()"
      ],
      "metadata": {
        "colab": {
          "base_uri": "https://localhost:8080/"
        },
        "id": "wME1Sk4cBLiV",
        "outputId": "2afec238-c961-472c-cf6e-566ccb6ea1d5"
      },
      "execution_count": 4,
      "outputs": [
        {
          "output_type": "stream",
          "name": "stdout",
          "text": [
            "Enter a number: 8\n",
            "\n",
            "2 \n",
            "3 3 \n",
            "4 4 4 \n",
            "5 5 5 5 \n",
            "6 6 6 6 6 \n",
            "7 7 7 7 7 7 \n",
            "8 8 8 8 8 8 8 \n"
          ]
        }
      ]
    },
    {
      "cell_type": "markdown",
      "source": [
        "1(d)"
      ],
      "metadata": {
        "id": "vgXfyrRqBfyR"
      }
    },
    {
      "cell_type": "code",
      "source": [
        "n=int(input(\"Enter a number: \"))\n",
        "for i in range(n,0,-1):\n",
        "  for j in  range(0,i):\n",
        "    print(i,end=' ')\n",
        "  print()"
      ],
      "metadata": {
        "colab": {
          "base_uri": "https://localhost:8080/"
        },
        "id": "IsxPB6t2Bg0H",
        "outputId": "0d965a40-b15e-405c-e440-7b0ce12d81a6"
      },
      "execution_count": 5,
      "outputs": [
        {
          "output_type": "stream",
          "name": "stdout",
          "text": [
            "Enter a number: 8\n",
            "8 8 8 8 8 8 8 8 \n",
            "7 7 7 7 7 7 7 \n",
            "6 6 6 6 6 6 \n",
            "5 5 5 5 5 \n",
            "4 4 4 4 \n",
            "3 3 3 \n",
            "2 2 \n",
            "1 \n"
          ]
        }
      ]
    },
    {
      "cell_type": "markdown",
      "source": [
        "1(e)"
      ],
      "metadata": {
        "id": "7qbfWR9CBoz9"
      }
    },
    {
      "cell_type": "code",
      "source": [
        "for i in range(0,5):\n",
        "  for j in  range(i):\n",
        "    print(i,end=' ')\n",
        "  print()\n",
        "for i in range(5,0,-1):\n",
        "  for j in  range(0,i):\n",
        "    print(i,end=' ')\n",
        "  print()\n",
        "     "
      ],
      "metadata": {
        "colab": {
          "base_uri": "https://localhost:8080/"
        },
        "id": "-mvbzTQkBpui",
        "outputId": "622ea7e5-5b47-49a6-dee0-6867c739867f"
      },
      "execution_count": 6,
      "outputs": [
        {
          "output_type": "stream",
          "name": "stdout",
          "text": [
            "\n",
            "1 \n",
            "2 2 \n",
            "3 3 3 \n",
            "4 4 4 4 \n",
            "5 5 5 5 5 \n",
            "4 4 4 4 \n",
            "3 3 3 \n",
            "2 2 \n",
            "1 \n"
          ]
        }
      ]
    },
    {
      "cell_type": "markdown",
      "source": [
        "1(f)"
      ],
      "metadata": {
        "id": "TovStWQ3B66x"
      }
    },
    {
      "cell_type": "code",
      "source": [
        "n=int(input(\"Enter a number: \"))\n",
        "for i in range(0,n):\n",
        "  for j in  range(i):\n",
        "    print(i,end=' ')\n",
        "  print()\n",
        "for i in range(n,0,-1):\n",
        "  for j in  range(0,i):\n",
        "    print(i,end=' ')\n",
        "  print()"
      ],
      "metadata": {
        "colab": {
          "base_uri": "https://localhost:8080/"
        },
        "id": "6HMIiSIaB7lW",
        "outputId": "14140a91-19e0-4d1b-cc7b-c31ee9889f10"
      },
      "execution_count": 7,
      "outputs": [
        {
          "output_type": "stream",
          "name": "stdout",
          "text": [
            "Enter a number: 8\n",
            "\n",
            "1 \n",
            "2 2 \n",
            "3 3 3 \n",
            "4 4 4 4 \n",
            "5 5 5 5 5 \n",
            "6 6 6 6 6 6 \n",
            "7 7 7 7 7 7 7 \n",
            "8 8 8 8 8 8 8 8 \n",
            "7 7 7 7 7 7 7 \n",
            "6 6 6 6 6 6 \n",
            "5 5 5 5 5 \n",
            "4 4 4 4 \n",
            "3 3 3 \n",
            "2 2 \n",
            "1 \n"
          ]
        }
      ]
    },
    {
      "cell_type": "markdown",
      "source": [
        "2(a)"
      ],
      "metadata": {
        "id": "T7sF0_6zCBB6"
      }
    },
    {
      "cell_type": "code",
      "source": [
        "for i in range(5,0,-1):\n",
        "  for j in  range(5,i-1,-1):\n",
        "    print(j,end=' ')\n",
        "  print()"
      ],
      "metadata": {
        "colab": {
          "base_uri": "https://localhost:8080/"
        },
        "id": "uXtpraprCB1B",
        "outputId": "fd879da4-5dfd-48a7-9de8-7dbe24968904"
      },
      "execution_count": 8,
      "outputs": [
        {
          "output_type": "stream",
          "name": "stdout",
          "text": [
            "5 \n",
            "5 4 \n",
            "5 4 3 \n",
            "5 4 3 2 \n",
            "5 4 3 2 1 \n"
          ]
        }
      ]
    },
    {
      "cell_type": "markdown",
      "source": [
        "2(b)"
      ],
      "metadata": {
        "id": "7-JlY78bCLMf"
      }
    },
    {
      "cell_type": "code",
      "source": [
        "for i in range(1,6):\n",
        "  for j in  range(5,i-1,-1):\n",
        "    print(j,end=' ')\n",
        "  print()"
      ],
      "metadata": {
        "colab": {
          "base_uri": "https://localhost:8080/"
        },
        "id": "8Ta8DYCkCLre",
        "outputId": "2fbb45ce-4131-41f7-adf0-7798545577ab"
      },
      "execution_count": 9,
      "outputs": [
        {
          "output_type": "stream",
          "name": "stdout",
          "text": [
            "5 4 3 2 1 \n",
            "5 4 3 2 \n",
            "5 4 3 \n",
            "5 4 \n",
            "5 \n"
          ]
        }
      ]
    },
    {
      "cell_type": "markdown",
      "source": [
        "2(c)"
      ],
      "metadata": {
        "id": "A_f_3S_9CUx3"
      }
    },
    {
      "cell_type": "code",
      "source": [
        "n=int(input(\"Enter a number: \"))\n",
        "for i in range(n,0,-1):\n",
        "  for j in  range(n,i-1,-1):\n",
        "    print(j,end=' ')\n",
        "  print()"
      ],
      "metadata": {
        "colab": {
          "base_uri": "https://localhost:8080/"
        },
        "id": "q3YktP3rCVhm",
        "outputId": "f0f757f9-1075-41b6-fa3d-f9e744245fa7"
      },
      "execution_count": 10,
      "outputs": [
        {
          "output_type": "stream",
          "name": "stdout",
          "text": [
            "Enter a number: 8\n",
            "8 \n",
            "8 7 \n",
            "8 7 6 \n",
            "8 7 6 5 \n",
            "8 7 6 5 4 \n",
            "8 7 6 5 4 3 \n",
            "8 7 6 5 4 3 2 \n",
            "8 7 6 5 4 3 2 1 \n"
          ]
        }
      ]
    },
    {
      "cell_type": "markdown",
      "source": [
        "2(d)"
      ],
      "metadata": {
        "id": "ez3hd1z0Cg66"
      }
    },
    {
      "cell_type": "code",
      "source": [
        "n=int(input(\"Enter a number: \"))\n",
        "for i in range(0,n):\n",
        "  for j in range(n-1,i-1,-1):\n",
        "    print(j+1,end=' ')\n",
        "  print()"
      ],
      "metadata": {
        "colab": {
          "base_uri": "https://localhost:8080/"
        },
        "id": "zjwhSQZnChi8",
        "outputId": "69b8b69e-1cf7-4884-b491-9734c9fa6e44"
      },
      "execution_count": 11,
      "outputs": [
        {
          "output_type": "stream",
          "name": "stdout",
          "text": [
            "Enter a number: 8\n",
            "8 7 6 5 4 3 2 1 \n",
            "8 7 6 5 4 3 2 \n",
            "8 7 6 5 4 3 \n",
            "8 7 6 5 4 \n",
            "8 7 6 5 \n",
            "8 7 6 \n",
            "8 7 \n",
            "8 \n"
          ]
        }
      ]
    },
    {
      "cell_type": "markdown",
      "source": [
        "2(e)"
      ],
      "metadata": {
        "id": "cZ59BNc5CtlU"
      }
    },
    {
      "cell_type": "code",
      "source": [
        "for i in range(5,0,-1):\n",
        "  for j in  range(5,i-1,-1):\n",
        "    print(j,end=' ')\n",
        "  print()\n",
        "for i in range(2,6):\n",
        "  for j in  range(5,i-1,-1):\n",
        "    print(j,end=' ')\n",
        "  print()"
      ],
      "metadata": {
        "colab": {
          "base_uri": "https://localhost:8080/"
        },
        "id": "h8uGIR1MCugq",
        "outputId": "c7baa84e-34bd-42f3-c119-7807e9276aae"
      },
      "execution_count": 12,
      "outputs": [
        {
          "output_type": "stream",
          "name": "stdout",
          "text": [
            "5 \n",
            "5 4 \n",
            "5 4 3 \n",
            "5 4 3 2 \n",
            "5 4 3 2 1 \n",
            "5 4 3 2 \n",
            "5 4 3 \n",
            "5 4 \n",
            "5 \n"
          ]
        }
      ]
    },
    {
      "cell_type": "markdown",
      "source": [
        "3(a)"
      ],
      "metadata": {
        "id": "xTKbFGgfC3ix"
      }
    },
    {
      "cell_type": "code",
      "source": [
        "for i in range(0,6):\n",
        "  for j in range(i,0,-1):\n",
        "    print(j,end=' ')\n",
        "  print()\n",
        "     "
      ],
      "metadata": {
        "colab": {
          "base_uri": "https://localhost:8080/"
        },
        "id": "cA7_OIX9C4Cu",
        "outputId": "1d6936c5-4c32-4957-c127-572a2ff840e5"
      },
      "execution_count": 13,
      "outputs": [
        {
          "output_type": "stream",
          "name": "stdout",
          "text": [
            "\n",
            "1 \n",
            "2 1 \n",
            "3 2 1 \n",
            "4 3 2 1 \n",
            "5 4 3 2 1 \n"
          ]
        }
      ]
    },
    {
      "cell_type": "markdown",
      "source": [
        "3(b)"
      ],
      "metadata": {
        "id": "ggcKH9PrDBcN"
      }
    },
    {
      "cell_type": "code",
      "source": [
        "for i in range(0,5+1):\n",
        "  for j in  range(5-i,0,-1):\n",
        "    print(j,end=' ')\n",
        "  print()\n"
      ],
      "metadata": {
        "colab": {
          "base_uri": "https://localhost:8080/"
        },
        "id": "CzUB0q0rDCLB",
        "outputId": "b75dedae-1559-4a97-c821-1777dde21a60"
      },
      "execution_count": 14,
      "outputs": [
        {
          "output_type": "stream",
          "name": "stdout",
          "text": [
            "5 4 3 2 1 \n",
            "4 3 2 1 \n",
            "3 2 1 \n",
            "2 1 \n",
            "1 \n",
            "\n"
          ]
        }
      ]
    },
    {
      "cell_type": "markdown",
      "source": [
        "3(C)"
      ],
      "metadata": {
        "id": "0tray2NEDKOM"
      }
    },
    {
      "cell_type": "code",
      "source": [
        "for i in range(0,5):\n",
        "  for j in range(i,0,-1):\n",
        "    print(j,end=' ')\n",
        "  print()\n",
        "for i in range(0,5+1):\n",
        "  for j in  range(5-i,0,-1):\n",
        "    print(j,end=' ')\n",
        "  print()"
      ],
      "metadata": {
        "colab": {
          "base_uri": "https://localhost:8080/"
        },
        "id": "RZnvoCrIDLMT",
        "outputId": "88a5984b-eb4e-4df6-9bf3-0a4eb660d6d3"
      },
      "execution_count": 15,
      "outputs": [
        {
          "output_type": "stream",
          "name": "stdout",
          "text": [
            "\n",
            "1 \n",
            "2 1 \n",
            "3 2 1 \n",
            "4 3 2 1 \n",
            "5 4 3 2 1 \n",
            "4 3 2 1 \n",
            "3 2 1 \n",
            "2 1 \n",
            "1 \n",
            "\n"
          ]
        }
      ]
    },
    {
      "cell_type": "markdown",
      "source": [
        "4"
      ],
      "metadata": {
        "id": "wJ8QrPuTDVnf"
      }
    },
    {
      "cell_type": "code",
      "source": [
        "for i in range(1,5):\n",
        "  for j in  range(0,5):\n",
        "    c=(i+j)%2\n",
        "    print(c,end=' ')\n",
        "  print()"
      ],
      "metadata": {
        "colab": {
          "base_uri": "https://localhost:8080/"
        },
        "id": "yrN6lLKUDWNg",
        "outputId": "4cad4b02-23df-4c44-8833-a349af5f1a08"
      },
      "execution_count": 16,
      "outputs": [
        {
          "output_type": "stream",
          "name": "stdout",
          "text": [
            "1 0 1 0 1 \n",
            "0 1 0 1 0 \n",
            "1 0 1 0 1 \n",
            "0 1 0 1 0 \n"
          ]
        }
      ]
    },
    {
      "cell_type": "markdown",
      "source": [
        "5"
      ],
      "metadata": {
        "id": "jDWhxE5WDdie"
      }
    },
    {
      "cell_type": "code",
      "source": [
        "for i in range(1,5+1):\n",
        "  for j in  range(1,i+1):\n",
        "    c=j%2\n",
        "    print(c,end=' ')\n",
        "  print()"
      ],
      "metadata": {
        "colab": {
          "base_uri": "https://localhost:8080/"
        },
        "id": "5W75pyG_DeC1",
        "outputId": "1af243e4-53ca-4e88-b02f-05ebb8373c02"
      },
      "execution_count": 17,
      "outputs": [
        {
          "output_type": "stream",
          "name": "stdout",
          "text": [
            "1 \n",
            "1 0 \n",
            "1 0 1 \n",
            "1 0 1 0 \n",
            "1 0 1 0 1 \n"
          ]
        }
      ]
    }
  ]
}