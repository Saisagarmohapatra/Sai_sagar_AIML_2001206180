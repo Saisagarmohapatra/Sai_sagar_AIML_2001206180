{
  "nbformat": 4,
  "nbformat_minor": 0,
  "metadata": {
    "colab": {
      "provenance": [],
      "authorship_tag": "ABX9TyNWP6AWZb6JlhUWe5KNQA15",
      "include_colab_link": true
    },
    "kernelspec": {
      "name": "python3",
      "display_name": "Python 3"
    },
    "language_info": {
      "name": "python"
    }
  },
  "cells": [
    {
      "cell_type": "markdown",
      "metadata": {
        "id": "view-in-github",
        "colab_type": "text"
      },
      "source": [
        "<a href=\"https://colab.research.google.com/github/Saisagarmohapatra/Sai_sagar_AIML_2001206180/blob/main/3-2-2023%20.ipynb\" target=\"_parent\"><img src=\"https://colab.research.google.com/assets/colab-badge.svg\" alt=\"Open In Colab\"/></a>"
      ]
    },
    {
      "cell_type": "code",
      "execution_count": 2,
      "metadata": {
        "colab": {
          "base_uri": "https://localhost:8080/"
        },
        "id": "__DluFUxaVog",
        "outputId": "0ef8081b-9004-4d85-c5ae-0aef19fe749a"
      },
      "outputs": [
        {
          "output_type": "stream",
          "name": "stdout",
          "text": [
            "ENTER YOUR CHOICE=3\n",
            "3\n",
            "6\n",
            "9\n",
            "12\n",
            "15\n",
            "18\n",
            "21\n",
            "24\n",
            "27\n",
            "30\n"
          ]
        }
      ],
      "source": [
        "list=[1,2,3,4,5,6,7,8,9,10]\n",
        "n=int(input('ENTER YOUR CHOICE='))\n",
        "for i in list:\n",
        "  c=n*i\n",
        "  print(c)"
      ]
    },
    {
      "cell_type": "code",
      "source": [
        "LIST=[10,30,23,43,65,12]\n",
        "SUM=0\n",
        "for i in LIST:\n",
        "  SUM=SUM+i\n",
        "  print('the sum is:',SUM)"
      ],
      "metadata": {
        "colab": {
          "base_uri": "https://localhost:8080/"
        },
        "id": "-cnqf5FXeNe_",
        "outputId": "fea36697-3f35-4352-8652-881c2c99c918"
      },
      "execution_count": 4,
      "outputs": [
        {
          "output_type": "stream",
          "name": "stdout",
          "text": [
            "the sum is: 10\n",
            "the sum is: 40\n",
            "the sum is: 63\n",
            "the sum is: 106\n",
            "the sum is: 171\n",
            "the sum is: 183\n"
          ]
        }
      ]
    },
    {
      "cell_type": "code",
      "source": [
        "#USING range() function in for loop\n",
        "n=int(input('ENTER THE NUMBER ='))\n",
        "for i in range(1,11):\n",
        "  c=n*i\n",
        "  print(n,'*',i,'=',c)"
      ],
      "metadata": {
        "colab": {
          "base_uri": "https://localhost:8080/"
        },
        "id": "AN7_iLBCgz7R",
        "outputId": "736c783f-a5df-4efe-8ec6-2764fb9b24d6"
      },
      "execution_count": 7,
      "outputs": [
        {
          "output_type": "stream",
          "name": "stdout",
          "text": [
            "ENTER THE NUMBER =10\n",
            "10 * 1 = 10\n",
            "10 * 2 = 20\n",
            "10 * 3 = 30\n",
            "10 * 4 = 40\n",
            "10 * 5 = 50\n",
            "10 * 6 = 60\n",
            "10 * 7 = 70\n",
            "10 * 8 = 80\n",
            "10 * 9 = 90\n",
            "10 * 10 = 100\n"
          ]
        }
      ]
    },
    {
      "cell_type": "code",
      "source": [
        "n=int(input('ENTER THE NUMBER ='))\n",
        "for i in range(2,n,2):\n",
        "  print(i)"
      ],
      "metadata": {
        "colab": {
          "base_uri": "https://localhost:8080/"
        },
        "id": "fJQvXw-fiafK",
        "outputId": "39cb3f13-ed03-4fc3-ff93-9a0ccab99265"
      },
      "execution_count": 8,
      "outputs": [
        {
          "output_type": "stream",
          "name": "stdout",
          "text": [
            "ENTER THE NUMBER =20\n",
            "2\n",
            "4\n",
            "6\n",
            "8\n",
            "10\n",
            "12\n",
            "14\n",
            "16\n",
            "18\n"
          ]
        }
      ]
    },
    {
      "cell_type": "code",
      "source": [
        "n=int(input('ENTER THE NUMBER ='))\n",
        "sum=0\n",
        "for i in range(2,n,2):\n",
        "   sum=sum+i\n",
        "print('sum is=',sum)"
      ],
      "metadata": {
        "colab": {
          "base_uri": "https://localhost:8080/"
        },
        "id": "ItvC8OXIjd4e",
        "outputId": "67ee4724-6f44-4e1b-d9c7-f7b203c5c4d2"
      },
      "execution_count": 20,
      "outputs": [
        {
          "output_type": "stream",
          "name": "stdout",
          "text": [
            "ENTER THE NUMBER =20\n",
            "sum is= 90\n"
          ]
        }
      ]
    },
    {
      "cell_type": "code",
      "source": [
        "list=['sai','sagar','sitara','tanu','raj']\n",
        "for i in range(len(list)):\n",
        "  print('hello',list[i])"
      ],
      "metadata": {
        "colab": {
          "base_uri": "https://localhost:8080/"
        },
        "id": "p1xX4ZH7jG8X",
        "outputId": "948f8f73-75ba-477e-ff01-849537437821"
      },
      "execution_count": 21,
      "outputs": [
        {
          "output_type": "stream",
          "name": "stdout",
          "text": [
            "hello sai\n",
            "hello sagar\n",
            "hello sitara\n",
            "hello tanu\n",
            "hello raj\n"
          ]
        }
      ]
    },
    {
      "cell_type": "code",
      "source": [
        "for i in range(5):\n",
        "  for j in range(5):\n",
        "   print(i+1,end='')\n",
        "  print('')"
      ],
      "metadata": {
        "colab": {
          "base_uri": "https://localhost:8080/"
        },
        "id": "r1dT0MVnniXP",
        "outputId": "0a5d7cef-86ff-475f-d81d-c55133a9b0fb"
      },
      "execution_count": 25,
      "outputs": [
        {
          "output_type": "stream",
          "name": "stdout",
          "text": [
            "11111\n",
            "22222\n",
            "33333\n",
            "44444\n",
            "55555\n"
          ]
        }
      ]
    },
    {
      "cell_type": "code",
      "source": [
        "row=int(input('ENTER THE NUMBER OF ROWS ='))\n",
        "for i in range(0,row+1):\n",
        "  for j in range(i):\n",
        "   print('*',end='')\n",
        "  print()"
      ],
      "metadata": {
        "colab": {
          "base_uri": "https://localhost:8080/"
        },
        "id": "SsgEUCH_o0WD",
        "outputId": "f8b044f0-82fd-4081-b3c7-69a9eaacd20c"
      },
      "execution_count": 26,
      "outputs": [
        {
          "output_type": "stream",
          "name": "stdout",
          "text": [
            "ENTER THE NUMBER OF ROWS =5\n",
            "\n",
            "*\n",
            "**\n",
            "***\n",
            "****\n",
            "*****\n"
          ]
        }
      ]
    },
    {
      "cell_type": "code",
      "source": [
        "s=int(input('ENTER THE NUMBER ='))\n",
        "rev=0\n",
        "while s>0:\n",
        "  d=int(s%10)\n",
        "  rev=(rev*10+d)\n",
        "  s=int(s/10)\n",
        "print('reverse =',rev)"
      ],
      "metadata": {
        "colab": {
          "base_uri": "https://localhost:8080/"
        },
        "id": "xfMtm-gGrY0_",
        "outputId": "a6af777a-137e-4dc9-a39e-fe7e0dbc1628"
      },
      "execution_count": 30,
      "outputs": [
        {
          "output_type": "stream",
          "name": "stdout",
          "text": [
            "ENTER THE NUMBER =123\n",
            "reverse = 321\n"
          ]
        }
      ]
    },
    {
      "cell_type": "code",
      "source": [],
      "metadata": {
        "id": "2zu48CMDuGUA"
      },
      "execution_count": null,
      "outputs": []
    }
  ]
}