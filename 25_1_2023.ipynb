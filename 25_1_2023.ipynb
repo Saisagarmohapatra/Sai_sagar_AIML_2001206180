{
  "nbformat": 4,
  "nbformat_minor": 0,
  "metadata": {
    "colab": {
      "provenance": [],
      "toc_visible": true,
      "authorship_tag": "ABX9TyPgdTIgKRg5Gbe4FGpqTCli",
      "include_colab_link": true
    },
    "kernelspec": {
      "name": "python3",
      "display_name": "Python 3"
    },
    "language_info": {
      "name": "python"
    }
  },
  "cells": [
    {
      "cell_type": "markdown",
      "metadata": {
        "id": "view-in-github",
        "colab_type": "text"
      },
      "source": [
        "<a href=\"https://colab.research.google.com/github/Saisagarmohapatra/Sai_sagar_AIML_2001206180/blob/main/25_1_2023.ipynb\" target=\"_parent\"><img src=\"https://colab.research.google.com/assets/colab-badge.svg\" alt=\"Open In Colab\"/></a>"
      ]
    },
    {
      "cell_type": "markdown",
      "source": [
        "1.\tInput radius finds AREA OF CIRCLE and PERIMETER OF THE CIRCLE."
      ],
      "metadata": {
        "id": "I8nd7EXpDREk"
      }
    },
    {
      "cell_type": "code",
      "execution_count": 14,
      "metadata": {
        "colab": {
          "base_uri": "https://localhost:8080/"
        },
        "id": "SMhmE5GewURg",
        "outputId": "ad03f6cd-baff-46e5-f402-9e005e8fe997"
      },
      "outputs": [
        {
          "output_type": "stream",
          "name": "stdout",
          "text": [
            "enter the radius :7.92\n",
            "the area of the circle= 62.7264\n",
            "the perimeter of the circle= 49.7376\n"
          ]
        }
      ],
      "source": [
        "r=float(input(\"enter the radius :\"))\n",
        "p =2*3.14*r\n",
        "a =r*r\n",
        "print('the area of the circle=',a)\n",
        "print('the perimeter of the circle=',p)"
      ]
    },
    {
      "cell_type": "markdown",
      "source": [
        "2.\tInput Kilometer converts to centimeter, meter, and millimeter."
      ],
      "metadata": {
        "id": "UlEBM2SVDlnH"
      }
    },
    {
      "cell_type": "code",
      "source": [
        "km=float(input('enter the distance in kilometers(km) ='))\n",
        "m=km*1000\n",
        "cm=km*100000\n",
        "mm=km*1000000\n",
        "print('THE GIVEN DISTANCE FROM KILOMETERS(Km) TO METERS(M) =',m)\n",
        "print('THE GIVEN DISTANCE FROM KILOMETERS(Km) TO CENTIMETERS(Cm) =',cm)\n",
        "print('THE GIVEN DISTANCE FROM KILOMETERS(Km) TO MILLIMETERS(Mm) =',mm)\n"
      ],
      "metadata": {
        "colab": {
          "base_uri": "https://localhost:8080/"
        },
        "id": "S8OJNLcKC_vy",
        "outputId": "74f49a31-e089-4cc0-fb15-222e109c03f2"
      },
      "execution_count": 18,
      "outputs": [
        {
          "output_type": "stream",
          "name": "stdout",
          "text": [
            "enter the distance in kilometers(km) =89.8\n",
            "THE GIVEN DISTANCE FROM KILOMETERS(Km) TO METERS(M) = 89800.0\n",
            "THE GIVEN DISTANCE FROM KILOMETERS(Km) TO CENTIMETERS(Cm) = 8980000.0\n",
            "THE GIVEN DISTANCE FROM KILOMETERS(Km) TO MILLIMETERS(Mm) = 89800000.0\n"
          ]
        }
      ]
    },
    {
      "cell_type": "markdown",
      "source": [
        "3.\tInput two numbers find sum without ‘+’operator."
      ],
      "metadata": {
        "id": "HhOXfiBIHUZg"
      }
    },
    {
      "cell_type": "code",
      "source": [
        "a=int(input('enter the first number = '))\n",
        "b=int(input('enter the second number = '))\n",
        "def add(a,b):\n",
        "   while(b !=0):\n",
        "      carry = a & b\n",
        "      a=a^b \n",
        "      b= carry << 1\n",
        "   return a\n",
        "print('addition of the two numbers =',add(a ^ b, (a & b) <<1))"
      ],
      "metadata": {
        "colab": {
          "base_uri": "https://localhost:8080/"
        },
        "id": "qJckOJrkHeVy",
        "outputId": "270878ba-3422-4716-b2d4-e22216ac6126"
      },
      "execution_count": 26,
      "outputs": [
        {
          "output_type": "stream",
          "name": "stdout",
          "text": [
            "enter the first number = 9\n",
            "enter the second number = 9\n",
            "addition of the two numbers = 18\n"
          ]
        }
      ]
    },
    {
      "cell_type": "markdown",
      "source": [
        "4.\tInput two numbers find remainder without ‘%’."
      ],
      "metadata": {
        "id": "eNx0_yhqMMac"
      }
    },
    {
      "cell_type": "code",
      "source": [
        "a=int(input('enter the first number = '))\n",
        "b=int(input('enter the second number = '))\n",
        "def rem(a,b):\n",
        "      return(a-b*(a//b))\n",
        "print('the remainder is ',rem(a,b))"
      ],
      "metadata": {
        "colab": {
          "base_uri": "https://localhost:8080/"
        },
        "id": "QBs7g7RnMYPf",
        "outputId": "f8b5ba16-dca5-4bdc-85cf-3862556f6596"
      },
      "execution_count": 35,
      "outputs": [
        {
          "output_type": "stream",
          "name": "stdout",
          "text": [
            "enter the first number = 7\n",
            "enter the second number = 3\n",
            "the remainder is  1\n"
          ]
        }
      ]
    },
    {
      "cell_type": "markdown",
      "source": [
        "5.\tInput temperature finds Celsius and Fahrenheit and vice-versa."
      ],
      "metadata": {
        "id": "nJzZINgAM2o1"
      }
    },
    {
      "cell_type": "code",
      "source": [
        "C=float(input('enter the temperature in celsius ='))\n",
        "F=float(C*1.8)+32\n",
        "print('the given temperature in Fahrenheit scale = ',F)\n",
        "fa=float(input('enter the temperature in Fahrenheits = '))\n",
        "cel=(fa - 32)/1.8\n",
        "print('the given temperature in celsius =',cel)"
      ],
      "metadata": {
        "colab": {
          "base_uri": "https://localhost:8080/"
        },
        "id": "E74C_SdxNCEM",
        "outputId": "13714c65-e2d8-4eef-db95-af30a394462f"
      },
      "execution_count": 30,
      "outputs": [
        {
          "output_type": "stream",
          "name": "stdout",
          "text": [
            "enter the temperature in celsius =34.6\n",
            "the given temperature in Fahrenheit scale =  94.28\n",
            "enter the temperature in Fahrenheits = 94.28\n",
            "the given temperature in celsius = 34.6\n"
          ]
        }
      ]
    },
    {
      "cell_type": "markdown",
      "source": [
        "6.\tInput a number finds reverse number without looping structure."
      ],
      "metadata": {
        "id": "BSCFQlzjQW6c"
      }
    },
    {
      "cell_type": "code",
      "source": [
        "a=int(input('enter the number ='))\n",
        "rev=int(str(a)[::-1])\n",
        "print('the reverse of the given number =',rev)"
      ],
      "metadata": {
        "colab": {
          "base_uri": "https://localhost:8080/"
        },
        "id": "UTVP0N-LQf_5",
        "outputId": "11d7bbfa-43d0-4b88-c516-91cb094cdd6a"
      },
      "execution_count": 33,
      "outputs": [
        {
          "output_type": "stream",
          "name": "stdout",
          "text": [
            "enter the number =342\n",
            "the reverse of the given number = 243\n"
          ]
        }
      ]
    }
  ]
}