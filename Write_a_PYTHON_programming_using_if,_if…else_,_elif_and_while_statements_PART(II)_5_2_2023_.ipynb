{
  "nbformat": 4,
  "nbformat_minor": 0,
  "metadata": {
    "colab": {
      "provenance": [],
      "authorship_tag": "ABX9TyMeATerNkCvrdISeISA4w6Z",
      "include_colab_link": true
    },
    "kernelspec": {
      "name": "python3",
      "display_name": "Python 3"
    },
    "language_info": {
      "name": "python"
    }
  },
  "cells": [
    {
      "cell_type": "markdown",
      "metadata": {
        "id": "view-in-github",
        "colab_type": "text"
      },
      "source": [
        "<a href=\"https://colab.research.google.com/github/Saisagarmohapatra/Sai_sagar_AIML_2001206180/blob/main/Write_a_PYTHON_programming_using_if%2C_if%E2%80%A6else_%2C_elif_and_while_statements_PART(II)_5_2_2023_.ipynb\" target=\"_parent\"><img src=\"https://colab.research.google.com/assets/colab-badge.svg\" alt=\"Open In Colab\"/></a>"
      ]
    },
    {
      "cell_type": "markdown",
      "source": [
        "Write a PYTHON programming using if, if…else ,  elif and while statements PART(II):"
      ],
      "metadata": {
        "id": "eKuj98ZBbZUH"
      }
    },
    {
      "cell_type": "markdown",
      "source": [
        "1.\tWrite a program to reverse an integer in Python."
      ],
      "metadata": {
        "id": "L9rXIpNxbV7_"
      }
    },
    {
      "cell_type": "code",
      "execution_count": 5,
      "metadata": {
        "colab": {
          "base_uri": "https://localhost:8080/"
        },
        "id": "DBCJ5jMka31P",
        "outputId": "eb9a8b90-72b8-4d75-d408-356999dcfc84"
      },
      "outputs": [
        {
          "output_type": "stream",
          "name": "stdout",
          "text": [
            "enter the integer :78\n",
            "the reverse of the integer = 87\n"
          ]
        }
      ],
      "source": [
        "num=int(input('enter the integer :'))\n",
        "rev=0\n",
        "def recur_rev(num):\n",
        "  global rev\n",
        "  if(num>0):\n",
        "    rem=num%10\n",
        "    rev=(rev*10)+rem\n",
        "    recur_rev(num//10)\n",
        "    return rev\n",
        "rev=recur_rev(num)\n",
        "print('the reverse of the integer =',rev)"
      ]
    },
    {
      "cell_type": "markdown",
      "source": [
        "2.\tWrite a program in Python to check whether an integer is Armstrong number or not."
      ],
      "metadata": {
        "id": "nJ30lfJgfOHK"
      }
    },
    {
      "cell_type": "code",
      "source": [
        "n=int(input('ENTER THE NUMBER = '))\n",
        "r=0\n",
        "temp=n\n",
        "while(temp>0):\n",
        "  digit=temp%10\n",
        "  r+=digit**3\n",
        "  temp//=10\n",
        "if(n==r):\n",
        "  print(n,'is an Armstrong number')\n",
        "else:\n",
        "  print(n,'is not an Armstrong number')"
      ],
      "metadata": {
        "colab": {
          "base_uri": "https://localhost:8080/"
        },
        "id": "ru486bjKfWRA",
        "outputId": "1d167dd7-8f4a-4b48-a8aa-3e3580c34313"
      },
      "execution_count": 11,
      "outputs": [
        {
          "output_type": "stream",
          "name": "stdout",
          "text": [
            "ENTER THE NUMBER = 371\n",
            "371 is an Armstrong number\n"
          ]
        }
      ]
    },
    {
      "cell_type": "markdown",
      "source": [
        "3.\tWrite a program in Python to check given number is prime or not."
      ],
      "metadata": {
        "id": "NsltOvzXiRk8"
      }
    },
    {
      "cell_type": "code",
      "source": [
        "n=int(input('ENTER THE NUMBER = '))\n",
        "if (n==1):\n",
        "  print(n,'IS NOT A PRIME NUMBER')\n",
        "elif(n>1):\n",
        "  for i in range(2,n):\n",
        "    if(n % i)==0:\n",
        "      print(n,'IS NOT A PRIME NUMBER')\n",
        "      print(i,'*',n//i,'=',n)\n",
        "      break\n",
        "  else:\n",
        "    print(n,'IS A PRIME NUMBER')\n",
        "else:\n",
        "  print(n,'IS NOT A PRIME NUMBER')"
      ],
      "metadata": {
        "colab": {
          "base_uri": "https://localhost:8080/"
        },
        "id": "F8Thg-CZid76",
        "outputId": "d3a741c0-b93b-4896-d2c8-29b902de2463"
      },
      "execution_count": 29,
      "outputs": [
        {
          "output_type": "stream",
          "name": "stdout",
          "text": [
            "ENTER THE NUMBER = 7\n",
            "7 IS A PRIME NUMBER\n"
          ]
        }
      ]
    },
    {
      "cell_type": "markdown",
      "source": [
        "4.\tWrite a program in Python to print the Fibonacci series using iterative method."
      ],
      "metadata": {
        "id": "-FOJWYzUpH09"
      }
    },
    {
      "cell_type": "code",
      "source": [
        "f=int(input('enter the first number = '))\n",
        "s=int(input('enter the second number = '))\n",
        "n=int(input('enter the number of sequence for the fibonacci series = '))\n",
        "print('the fibonacci series = ')\n",
        "print(f)\n",
        "print(s)\n",
        "for i in range(f,n):\n",
        "  if(i<=1):\n",
        "    result=i\n",
        "  else:\n",
        "    result=f+s\n",
        "    f=s\n",
        "    s=result\n",
        "  print(result)"
      ],
      "metadata": {
        "colab": {
          "base_uri": "https://localhost:8080/"
        },
        "id": "1DAeQPWepPwc",
        "outputId": "d3d4111e-f9b2-412f-f78e-36664ed1f1dc"
      },
      "execution_count": 40,
      "outputs": [
        {
          "output_type": "stream",
          "name": "stdout",
          "text": [
            "enter the first number = 2\n",
            "enter the second number = 5\n",
            "enter the number of sequence for the fibonacci series = 8\n",
            "the fibonacci series = \n",
            "2\n",
            "5\n",
            "7\n",
            "12\n",
            "19\n",
            "31\n",
            "50\n",
            "81\n"
          ]
        }
      ]
    },
    {
      "cell_type": "markdown",
      "source": [
        "5.\tWrite a program in Python to print the Fibonacci series using recursive method."
      ],
      "metadata": {
        "id": "2iU8PWR1xb1O"
      }
    },
    {
      "cell_type": "code",
      "source": [
        "def fibonacci(n):\n",
        "  if(n<=1):\n",
        "    return n\n",
        "  else:\n",
        "    return(fibonacci(n-1)+fibonacci(n-2))\n",
        "n=int(input('ENTER THE NUMBER OF TERMS IN FIBONACCI SERIES = '))\n",
        "print('THE FIBONACCI SERIES = ')\n",
        "for i in range(n):\n",
        "  print(fibonacci(i))"
      ],
      "metadata": {
        "colab": {
          "base_uri": "https://localhost:8080/"
        },
        "id": "4Jf_l-BJxivV",
        "outputId": "23a8c35f-fb32-4400-af58-9c6a098dd433"
      },
      "execution_count": 41,
      "outputs": [
        {
          "output_type": "stream",
          "name": "stdout",
          "text": [
            "ENTER THE NUMBER OF TERMS IN FIBONACCI SERIES = 9\n",
            "THE FIBONACCI SERIES = \n",
            "0\n",
            "1\n",
            "1\n",
            "2\n",
            "3\n",
            "5\n",
            "8\n",
            "13\n",
            "21\n"
          ]
        }
      ]
    },
    {
      "cell_type": "markdown",
      "source": [
        "6.\tWrite a program in Python to check whether a number is palindrome or not using iterative method."
      ],
      "metadata": {
        "id": "EIJxsj5xzMUN"
      }
    },
    {
      "cell_type": "code",
      "source": [
        "n = int(input(\"please give a number : \"))\n",
        "reverse= 0\n",
        "temp=n\n",
        "while (temp!=0):\n",
        "    reverse = reverse*10 + temp%10;        \n",
        "    temp=temp//10;\n",
        "if (reverse==n):\n",
        "    print(\"number is palindrom\")\n",
        "else:\n",
        "    print(\"number is not palindrom\")"
      ],
      "metadata": {
        "colab": {
          "base_uri": "https://localhost:8080/"
        },
        "id": "F1nfUyApzVbz",
        "outputId": "1495e2db-4335-4105-89d4-0aabc8ad84eb"
      },
      "execution_count": 42,
      "outputs": [
        {
          "output_type": "stream",
          "name": "stdout",
          "text": [
            "please give a number : 123\n",
            "number is not palindrom\n"
          ]
        }
      ]
    },
    {
      "cell_type": "markdown",
      "source": [
        "7.\tWrite a program in Python to check whether a number is palindrome or not using recursive method."
      ],
      "metadata": {
        "id": "e63Sonjh0W2F"
      }
    },
    {
      "cell_type": "code",
      "source": [
        "def rev(n, temp):\n",
        "    if (n == 0):\n",
        "        return temp;\n",
        "    temp = (temp * 10) + (n % 10);\n",
        "    return rev(n // 10, temp);\n",
        "n=int(input('enter the number = '))\n",
        "temp = rev(n, 0);\n",
        " \n",
        "if (temp == n):\n",
        "    print(\"yes the number is a palindrome\")\n",
        "else:\n",
        "    print(\"no the number is not a palidrome\")"
      ],
      "metadata": {
        "colab": {
          "base_uri": "https://localhost:8080/"
        },
        "id": "HmN6kWyd0hBV",
        "outputId": "400530a2-b6f9-4b1a-c1d5-1bead8bbe31a"
      },
      "execution_count": 45,
      "outputs": [
        {
          "output_type": "stream",
          "name": "stdout",
          "text": [
            "enter the number = 121\n",
            "yes the number is a palindrome\n"
          ]
        }
      ]
    },
    {
      "cell_type": "markdown",
      "source": [
        "8.\tWrite a program in Python to find greatest among three integers."
      ],
      "metadata": {
        "id": "dR2xK0LP2eW4"
      }
    },
    {
      "cell_type": "code",
      "source": [
        "a = int(input('Enter first number  : '))\n",
        "b = int(input('Enter second number : '))\n",
        "c = int(input('Enter third number  : '))\n",
        "\n",
        "largest = 0\n",
        "\n",
        "if (a > b and a > c) :\n",
        "    largest = a\n",
        "elif (b > c) :\n",
        "    largest = b\n",
        "else :\n",
        "    largest = c\n",
        "\n",
        "print(largest, \"is the largest of three numbers.\")"
      ],
      "metadata": {
        "colab": {
          "base_uri": "https://localhost:8080/"
        },
        "id": "684xN-PQ23gU",
        "outputId": "eb887e37-9f68-418c-8e2a-55d60467ad5b"
      },
      "execution_count": 46,
      "outputs": [
        {
          "output_type": "stream",
          "name": "stdout",
          "text": [
            "Enter first number  : 2\n",
            "Enter second number : 8\n",
            "Enter third number  : 1\n",
            "8 is the largest of three numbers.\n"
          ]
        }
      ]
    },
    {
      "cell_type": "markdown",
      "source": [
        "9.\tWrite a program in Python to check if a number is binary?"
      ],
      "metadata": {
        "id": "bXP1_xod33wK"
      }
    },
    {
      "cell_type": "code",
      "source": [
        "num = int(input(\"please give a number : \"))\n",
        "j=num%10\n",
        "num=num//10\n",
        "if j!=0 and j!=1:\n",
        "    print(\"num is not binary\")\n",
        "elif num==0:\n",
        "   print(\"num is binary\") "
      ],
      "metadata": {
        "colab": {
          "base_uri": "https://localhost:8080/"
        },
        "id": "E8UiuzdF33MJ",
        "outputId": "5a424767-c0e6-4d57-b316-c2e15a136d0c"
      },
      "execution_count": 55,
      "outputs": [
        {
          "output_type": "stream",
          "name": "stdout",
          "text": [
            "please give a number : 00001\n",
            "num is binary\n"
          ]
        }
      ]
    },
    {
      "cell_type": "markdown",
      "source": [
        "10.\tWrite a program in Python to find sum of digits of a number using recursion?"
      ],
      "metadata": {
        "id": "MOPzGKqO5cEC"
      }
    },
    {
      "cell_type": "code",
      "source": [
        "def sum_of_digit( n ):\n",
        "    if (n == 0):\n",
        "        return 0\n",
        "    return (n % 10 + sum_of_digit(int(n / 10)))\n",
        "num=int(input('enter the number'))\n",
        "result = sum_of_digit(num)\n",
        "print(\"Sum of digits in\",num,\"is\", result)"
      ],
      "metadata": {
        "colab": {
          "base_uri": "https://localhost:8080/"
        },
        "id": "CbeY0okj326_",
        "outputId": "3cb1f981-b6c3-4b78-e830-e23642ea3aea"
      },
      "execution_count": 57,
      "outputs": [
        {
          "output_type": "stream",
          "name": "stdout",
          "text": [
            "enter the number676\n",
            "Sum of digits in 676 is 19\n"
          ]
        }
      ]
    },
    {
      "cell_type": "markdown",
      "source": [
        "11.\tWrite a program in Python to swap two numbers without using third variable?"
      ],
      "metadata": {
        "id": "npl4MHvg6gVo"
      }
    },
    {
      "cell_type": "code",
      "source": [
        "# Python code to swap two numbers\n",
        "# without using another variable\n",
        "\n",
        "\n",
        "x =int(input('enter the value of x ='))\n",
        "y =int(input('enter the value of y ='))\n",
        "\n",
        "print (\"Before swapping: \")\n",
        "print(\"Value of x : \", x, \" and y : \", y)\n",
        "\n",
        "# code to swap 'x' and 'y'\n",
        "x, y = y, x\n",
        "\n",
        "print (\"After swapping: \")\n",
        "print(\"Value of x : \", x, \" and y : \", y)\n"
      ],
      "metadata": {
        "colab": {
          "base_uri": "https://localhost:8080/"
        },
        "id": "_wwNCWle6npK",
        "outputId": "5dc8aa0e-e02a-4e49-f907-5327b581a839"
      },
      "execution_count": 136,
      "outputs": [
        {
          "output_type": "stream",
          "name": "stdout",
          "text": [
            "enter the value of x =7\n",
            "enter the value of y =5\n",
            "Before swapping: \n",
            "Value of x :  7  and y :  5\n",
            "After swapping: \n",
            "Value of x :  5  and y :  7\n"
          ]
        }
      ]
    },
    {
      "cell_type": "markdown",
      "source": [
        "12.\tWrite a program in Python to swap two numbers using third variable?"
      ],
      "metadata": {
        "id": "fGBLMcDf7P7b"
      }
    },
    {
      "cell_type": "code",
      "source": [
        "x =int(input('enter the value of x before swapping = '))\n",
        "y =int(input('enter the value of y before swapping = '))\n",
        "if(x<0) and (y<0):\n",
        "   print('enter a value not equal to 0')\n",
        "else:\n",
        "  temp = x\n",
        "  x = y\n",
        "  y = temp\n",
        "  print('The value of x after swapping:',x)\n",
        "  print('The value of y after swapping:',y)"
      ],
      "metadata": {
        "colab": {
          "base_uri": "https://localhost:8080/"
        },
        "id": "p0gUgorZ7aJK",
        "outputId": "0e927966-e208-47d8-ad2c-3eeb10548e12"
      },
      "execution_count": 71,
      "outputs": [
        {
          "output_type": "stream",
          "name": "stdout",
          "text": [
            "enter the value of x before swapping = 8\n",
            "enter the value of y before swapping = 6\n",
            "The value of x after swapping: 6\n",
            "The value of y after swapping: 8\n"
          ]
        }
      ]
    },
    {
      "cell_type": "markdown",
      "source": [
        "13.\tWrite a program in Python to find prime factors of a given integer."
      ],
      "metadata": {
        "id": "zmOmSohOQf4d"
      }
    },
    {
      "cell_type": "code",
      "source": [
        "n = int(input(\"Enter any Number for calculating the prime factors: \"))\n",
        "i = 1\n",
        "\n",
        "while(i <= n):\n",
        "    c = 0\n",
        "    if(n % i == 0):\n",
        "        j = 1\n",
        "        while(j <= i):\n",
        "            if(i % j == 0):\n",
        "                c = c + 1\n",
        "            j = j + 1\n",
        "            \n",
        "        if (c == 2):\n",
        "            print('prime factors are : ',i)\n",
        "    i = i + 1"
      ],
      "metadata": {
        "colab": {
          "base_uri": "https://localhost:8080/"
        },
        "id": "Hdr97i-MQmJ1",
        "outputId": "a4062748-57a6-40d6-f39b-c371dece348a"
      },
      "execution_count": 73,
      "outputs": [
        {
          "output_type": "stream",
          "name": "stdout",
          "text": [
            "Enter any Number for calculating the prime factors: 35\n",
            "prime factors are :  5\n",
            "prime factors are :  7\n"
          ]
        }
      ]
    },
    {
      "cell_type": "markdown",
      "source": [
        "14.\tWrite a program in Python to add two integer without using arithmetic operator?"
      ],
      "metadata": {
        "id": "ScZkD9wdRhy6"
      }
    },
    {
      "cell_type": "code",
      "source": [
        "x =int(input('enter the first value= '))\n",
        "y =int(input('enter the second value = '))\n",
        "def Add(x, y):\n",
        "   \n",
        "    if (y == 0):\n",
        "        return x\n",
        "    else:\n",
        "        return Add( x ^ y, (x & y) << 1)\n",
        "print('the sum is',Add(x,y))"
      ],
      "metadata": {
        "colab": {
          "base_uri": "https://localhost:8080/"
        },
        "id": "mqv5S96zR7QF",
        "outputId": "64a4c8ff-d38b-4c5c-8b8b-76a83799f281"
      },
      "execution_count": 82,
      "outputs": [
        {
          "output_type": "stream",
          "name": "stdout",
          "text": [
            "enter the first value= 7\n",
            "enter the second value = 8\n",
            "the sum is 15\n"
          ]
        }
      ]
    },
    {
      "cell_type": "markdown",
      "source": [
        "15.\tWrite a program in Python to find given number is perfect or not?"
      ],
      "metadata": {
        "id": "IALIIrEZVEjf"
      }
    },
    {
      "cell_type": "code",
      "source": [
        "n = int(input(\"Enter any number: \"))\n",
        "sum1 = 0\n",
        "for i in range(1, n):\n",
        "    if(n % i == 0):\n",
        "        sum1 = sum1 + i\n",
        "if (sum1 == n):\n",
        "    print(\"The number is a Perfect number!\")\n",
        "else:\n",
        "    print(\"The number is not a Perfect number!\")"
      ],
      "metadata": {
        "colab": {
          "base_uri": "https://localhost:8080/"
        },
        "id": "xlDSTRJgVMV7",
        "outputId": "1e13ff95-9e9a-437c-a72d-507fd06d621a"
      },
      "execution_count": 85,
      "outputs": [
        {
          "output_type": "stream",
          "name": "stdout",
          "text": [
            "Enter any number: 6\n",
            "The number is a Perfect number!\n"
          ]
        }
      ]
    },
    {
      "cell_type": "markdown",
      "source": [
        "16.\tPython Program to find the Average of numbers with explanations."
      ],
      "metadata": {
        "id": "nepmUFMNWSvs"
      }
    },
    {
      "cell_type": "code",
      "source": [
        "num = int(input('How many numbers: '))\n",
        "total_sum = 0\n",
        "for n in range(num):\n",
        "    numbers = float(input('Enter number : '))\n",
        "    total_sum += numbers\n",
        "avg = total_sum/num\n",
        "print('Average of ', num, ' numbers is :', avg)"
      ],
      "metadata": {
        "colab": {
          "base_uri": "https://localhost:8080/"
        },
        "id": "IhRfjvTLWg7Q",
        "outputId": "7994f7f5-1e03-43f6-e9d9-f01895905d5f"
      },
      "execution_count": 138,
      "outputs": [
        {
          "output_type": "stream",
          "name": "stdout",
          "text": [
            "How many numbers: 5\n",
            "Enter number : 1\n",
            "Enter number : 2\n",
            "Enter number : 3\n",
            "Enter number : 4\n",
            "Enter number : 5\n",
            "Average of  5  numbers is : 3.0\n"
          ]
        }
      ]
    },
    {
      "cell_type": "markdown",
      "source": [
        "17.\tPython Program to calculate factorial using iterative method."
      ],
      "metadata": {
        "id": "r4LzpQo8W40_"
      }
    },
    {
      "cell_type": "code",
      "source": [
        "num=int(input(\"Enter the whole number to find the factorial: \"))\n",
        "factorial = 1\n",
        "if num < 0:\n",
        "   \tprint(\"Factorial can't be calculated for negative number\")\n",
        "elif num == 0:\n",
        "   print(\"Factorial of 0 is 1\")\n",
        "else:\n",
        "  for i in range(1,num + 1):\n",
        "   factorial = factorial*i\n",
        "print(\"Factorial of\",num,\"is\",factorial)"
      ],
      "metadata": {
        "colab": {
          "base_uri": "https://localhost:8080/"
        },
        "id": "5qFzW0BFcUPQ",
        "outputId": "f13bd672-1672-4ebb-ec00-8db9b1523fa8"
      },
      "execution_count": 88,
      "outputs": [
        {
          "output_type": "stream",
          "name": "stdout",
          "text": [
            "Enter the whole number to find the factorial: 5\n",
            "Factorial of 5 is 120\n"
          ]
        }
      ]
    },
    {
      "cell_type": "markdown",
      "source": [
        "18.\tPython Program to calculate factorial using recursion."
      ],
      "metadata": {
        "id": "zTy68GNIdQBK"
      }
    },
    {
      "cell_type": "code",
      "source": [
        "def recur_factorial(n):\n",
        "   if n == 1:\n",
        "       return n\n",
        "   else:\n",
        "       return n*recur_factorial(n-1)\n",
        "\n",
        "num=int(input('enter the number = '))\n",
        "\n",
        "# check if the number is negative\n",
        "if num < 0:\n",
        "   print(\"Sorry, factorial does not exist for negative numbers\")\n",
        "elif num == 0:\n",
        "   print(\"The factorial of 0 is 1\")\n",
        "else:\n",
        "   print(\"The factorial of\", num, \"is\", recur_factorial(num))"
      ],
      "metadata": {
        "colab": {
          "base_uri": "https://localhost:8080/"
        },
        "id": "2QjlSp-UdPWi",
        "outputId": "7d3677b4-6839-41e6-ba16-a7d5016c1f02"
      },
      "execution_count": 89,
      "outputs": [
        {
          "output_type": "stream",
          "name": "stdout",
          "text": [
            "enter the number = 5\n",
            "The factorial of 5 is 120\n"
          ]
        }
      ]
    },
    {
      "cell_type": "markdown",
      "source": [
        "19.\tPython Program to check a given number is even or odd."
      ],
      "metadata": {
        "id": "7tIY1cf0d0wi"
      }
    },
    {
      "cell_type": "code",
      "source": [
        "num = int(input ('Enter any number to test whether it is odd or even: '))\n",
        "if (num % 2)==0:\n",
        "    print ('The number is even')\n",
        "else:\n",
        "    print ('The provided number is odd')"
      ],
      "metadata": {
        "colab": {
          "base_uri": "https://localhost:8080/"
        },
        "id": "aFgDlsL5eQgC",
        "outputId": "2c977760-8500-4c46-90cd-be2ce654b68d"
      },
      "execution_count": 91,
      "outputs": [
        {
          "output_type": "stream",
          "name": "stdout",
          "text": [
            "Enter any number to test whether it is odd or even: 9\n",
            "The provided number is odd\n"
          ]
        }
      ]
    },
    {
      "cell_type": "markdown",
      "source": [
        "20.\tPython program to print first n Prime Number with explanation."
      ],
      "metadata": {
        "id": "3nw4ZgclfGPZ"
      }
    },
    {
      "cell_type": "code",
      "source": [
        "def isPrime(n):\n",
        "  #since 0 and 1 is not prime return false.\n",
        "  if(n==1 or n==0):\n",
        "    return False\n",
        "    \n",
        "  #Run a loop from 2 to n-1\n",
        "  for i in range(2,n):\n",
        "    #if the number is divisible by i, then n is not a prime number.\n",
        "    if(n%i==0):\n",
        "      return False   \n",
        "  #otherwise, n is prime number.\n",
        "  return True\n",
        "N =int(input('ENTER TILL HOW MANY NUMBERS YOU WANT TO KNOW ARE PRIME ='))\n",
        "#check for every number from 1 to N\n",
        "for i in range(1,N+1):\n",
        "  #check if current number is prime\n",
        "  if(isPrime(i)):\n",
        "    print(i,end=\" \")"
      ],
      "metadata": {
        "colab": {
          "base_uri": "https://localhost:8080/"
        },
        "id": "9vxD-NRlfmJF",
        "outputId": "475766f6-39fa-4a45-d436-1d68e71ccb38"
      },
      "execution_count": 93,
      "outputs": [
        {
          "output_type": "stream",
          "name": "stdout",
          "text": [
            "ENTER TILL HOW MANY NUMBERS YOU WANT TO KNOW ARE PRIME =10\n",
            "2 3 5 7 "
          ]
        }
      ]
    },
    {
      "cell_type": "markdown",
      "source": [
        "21.\tPython Program to print Prime Number in a given range."
      ],
      "metadata": {
        "id": "3oF9anIOh-yj"
      }
    },
    {
      "cell_type": "code",
      "source": [
        "lower_value = int(input (\"Please, Enter the Lowest Range Value: \"))  \n",
        "upper_value = int(input (\"Please, Enter the Upper Range Value: \"))  \n",
        "  \n",
        "print (\"The Prime Numbers in the range are: \")  \n",
        "for number in range (lower_value, upper_value + 1):  \n",
        "    if number > 1:  \n",
        "        for i in range (2, number):  \n",
        "            if (number % i) == 0:  \n",
        "                break  \n",
        "        else:  \n",
        "            print (number)  "
      ],
      "metadata": {
        "colab": {
          "base_uri": "https://localhost:8080/"
        },
        "id": "CbU0qfkdiIpL",
        "outputId": "67972300-b10f-4a69-a823-e35083d4541b"
      },
      "execution_count": 94,
      "outputs": [
        {
          "output_type": "stream",
          "name": "stdout",
          "text": [
            "Please, Enter the Lowest Range Value: 3\n",
            "Please, Enter the Upper Range Value: 20\n",
            "The Prime Numbers in the range are: \n",
            "3\n",
            "5\n",
            "7\n",
            "11\n",
            "13\n",
            "17\n",
            "19\n"
          ]
        }
      ]
    },
    {
      "cell_type": "markdown",
      "source": [
        "22.\tPython Program to find Smallest number among three."
      ],
      "metadata": {
        "id": "TStAMPwii1jj"
      }
    },
    {
      "cell_type": "code",
      "source": [
        "a = int(input('Enter first number  : '))\n",
        "b = int(input('Enter second number : '))\n",
        "c = int(input('Enter third number  : '))\n",
        "\n",
        "smallest= 0\n",
        "\n",
        "if (a < b and a < c) :\n",
        "    smallest = a\n",
        "elif (b < c) :\n",
        "    smallest = b\n",
        "else :\n",
        "    smallest = c\n",
        "\n",
        "print(smallest, \"is the smallest of three numbers.\")"
      ],
      "metadata": {
        "colab": {
          "base_uri": "https://localhost:8080/"
        },
        "id": "opG479RMi-Er",
        "outputId": "755570ba-c710-42ca-ecfb-32181f7a5790"
      },
      "execution_count": 95,
      "outputs": [
        {
          "output_type": "stream",
          "name": "stdout",
          "text": [
            "Enter first number  : 8\n",
            "Enter second number : 9\n",
            "Enter third number  : 3\n",
            "3 is the smallest of three numbers.\n"
          ]
        }
      ]
    },
    {
      "cell_type": "markdown",
      "source": [
        "23.\tPython program to calculate the power using the POW method."
      ],
      "metadata": {
        "id": "n0tJBQtKjrI5"
      }
    },
    {
      "cell_type": "code",
      "source": [
        "base =int(input('enter the base number = '))\n",
        "exponent =int(input('enter te exponent = '))\n",
        "\n",
        "result = pow(base, exponent)\n",
        "\n",
        "print(\"Answer = \" + str(result))"
      ],
      "metadata": {
        "colab": {
          "base_uri": "https://localhost:8080/"
        },
        "id": "ULE1O1JIj3d8",
        "outputId": "fe6d8415-9122-4341-c808-2d05796fa4cf"
      },
      "execution_count": 97,
      "outputs": [
        {
          "output_type": "stream",
          "name": "stdout",
          "text": [
            "enter the base number = 7\n",
            "enter te exponent = 2\n",
            "Answer = 49\n"
          ]
        }
      ]
    },
    {
      "cell_type": "markdown",
      "source": [
        "24.\tPython Program to calculate the power without using POW function.(using for loop)."
      ],
      "metadata": {
        "id": "n7M0KNNhki_e"
      }
    },
    {
      "cell_type": "code",
      "source": [
        "base =int(input('enter the base number = '))\n",
        "exponent =int(input('enter the exponent = '))\n",
        "\n",
        "result = 1\n",
        "\n",
        "for exponent in range(exponent, 0, -1):\n",
        "    result *= base\n",
        "\n",
        "print(\"Answer = \" + str(result))"
      ],
      "metadata": {
        "colab": {
          "base_uri": "https://localhost:8080/"
        },
        "id": "aRvP8UN4kqD0",
        "outputId": "6f6dab6f-e36f-405c-c564-f848acb3ebad"
      },
      "execution_count": 99,
      "outputs": [
        {
          "output_type": "stream",
          "name": "stdout",
          "text": [
            "enter the base number = 5\n",
            "enter the exponent = 2\n",
            "Answer = 25\n"
          ]
        }
      ]
    },
    {
      "cell_type": "markdown",
      "source": [
        "25.\tPython Program to calculate the power without using POW function.(using while loop)."
      ],
      "metadata": {
        "id": "AP9bImQ6lSEx"
      }
    },
    {
      "cell_type": "code",
      "source": [
        "base =int(input('enter the base number = '))\n",
        "exponent =int(input('enter the exponent = '))\n",
        "\n",
        "result = 1\n",
        "\n",
        "while exponent != 0:\n",
        "    result *= base\n",
        "    exponent-=1\n",
        "\n",
        "print(\"Answer = \" + str(result))"
      ],
      "metadata": {
        "colab": {
          "base_uri": "https://localhost:8080/"
        },
        "id": "cUUuuVt0lZKB",
        "outputId": "15aa31ea-fcdb-4998-8544-e9999a576c26"
      },
      "execution_count": 100,
      "outputs": [
        {
          "output_type": "stream",
          "name": "stdout",
          "text": [
            "enter the base number = 7\n",
            "enter the exponent = 3\n",
            "Answer = 343\n"
          ]
        }
      ]
    },
    {
      "cell_type": "markdown",
      "source": [
        "26.\tPython Program to calculate the square of a given number."
      ],
      "metadata": {
        "id": "YhpDtd_6lzJZ"
      }
    },
    {
      "cell_type": "code",
      "source": [
        "n=int(input('enter the number = '))\n",
        "if(n==0):\n",
        "  print('enter a valid number')\n",
        "else: \n",
        " sq=n*n\n",
        " print(sq,'is the square of ',n)"
      ],
      "metadata": {
        "colab": {
          "base_uri": "https://localhost:8080/"
        },
        "id": "oMuJQpGTl4Zj",
        "outputId": "1ff8750f-14ef-4916-a7b6-b96e82fd6354"
      },
      "execution_count": 102,
      "outputs": [
        {
          "output_type": "stream",
          "name": "stdout",
          "text": [
            "enter the number = 8\n",
            "64 is the square of  8\n"
          ]
        }
      ]
    },
    {
      "cell_type": "markdown",
      "source": [
        "27.\tPython Program to calculate the cube of a given number."
      ],
      "metadata": {
        "id": "MndN-vq8mmv9"
      }
    },
    {
      "cell_type": "code",
      "source": [
        "n=int(input('enter the number = '))\n",
        "if(n==0):\n",
        "  print('enter a valid number')\n",
        "else: \n",
        " cr=n*n*n\n",
        " print(cr,'is the cube of ',n)"
      ],
      "metadata": {
        "colab": {
          "base_uri": "https://localhost:8080/"
        },
        "id": "OLAVhyJOnBlU",
        "outputId": "f065f07e-4c00-48d5-e5fb-183c83cfa37d"
      },
      "execution_count": 104,
      "outputs": [
        {
          "output_type": "stream",
          "name": "stdout",
          "text": [
            "enter the number = 3\n",
            "27 is the cube of  3\n"
          ]
        }
      ]
    },
    {
      "cell_type": "markdown",
      "source": [
        "28.\tPython Program to calculate the square root of a given number."
      ],
      "metadata": {
        "id": "pyQeDRZ-nQ46"
      }
    },
    {
      "cell_type": "code",
      "source": [
        "n=int(input('enter the number = '))\n",
        "if(n==0):\n",
        "  print('enter a valid number')\n",
        "else: \n",
        " sr=int(n**0.5)\n",
        " print(sr,'is the square root of ',n)"
      ],
      "metadata": {
        "colab": {
          "base_uri": "https://localhost:8080/"
        },
        "id": "0pNoROtHnaBf",
        "outputId": "b0541b08-87d5-47d2-c270-28e4416897e1"
      },
      "execution_count": 106,
      "outputs": [
        {
          "output_type": "stream",
          "name": "stdout",
          "text": [
            "enter the number = 81\n",
            "9 is the square root of  81\n"
          ]
        }
      ]
    },
    {
      "cell_type": "markdown",
      "source": [
        "29.\tPython program to calculate LCM of given two numbers."
      ],
      "metadata": {
        "id": "DCCWm0ywoySH"
      }
    },
    {
      "cell_type": "code",
      "source": [
        "num1 = int(input('enter the first number = '))\n",
        "num2 = int(input('enter the second number = '))\n",
        "if(num1 > num2 ):\n",
        "    max= num1\n",
        "else:\n",
        "    max= num2\n",
        "while(True):\n",
        "    if(max % num1 == 0 and max % num2 == 0):   \n",
        "        print(max)\n",
        "        break;\n",
        "    max= max+ 1"
      ],
      "metadata": {
        "colab": {
          "base_uri": "https://localhost:8080/"
        },
        "id": "iIb-bah5o0Ab",
        "outputId": "be6536b4-be9e-46bc-c397-c7a056370535"
      },
      "execution_count": 108,
      "outputs": [
        {
          "output_type": "stream",
          "name": "stdout",
          "text": [
            "enter the first number = 2\n",
            "enter the second number = 3\n",
            "6\n"
          ]
        }
      ]
    },
    {
      "cell_type": "markdown",
      "source": [
        "30.\tPython Program to find GCD or HCF of two numbers."
      ],
      "metadata": {
        "id": "cwt3Su5drT4B"
      }
    },
    {
      "cell_type": "code",
      "source": [
        "def compute_hcf(x, y):\n",
        "    if x > y:\n",
        "        smaller = y\n",
        "    else:\n",
        "        smaller = x\n",
        "    for i in range(1, smaller+1):\n",
        "        if((x % i == 0) and (y % i == 0)):\n",
        "            hcf = i \n",
        "    return hcf\n",
        "\n",
        "num1 =int(input('enter the first number = '))\n",
        "num2 =int(input('enter the second number = '))\n",
        "\n",
        "print(\"The H.C.F. is\", compute_hcf(num1, num2))\n"
      ],
      "metadata": {
        "colab": {
          "base_uri": "https://localhost:8080/"
        },
        "id": "Q5P1aExercQt",
        "outputId": "47373bd0-9d25-40fc-c676-474a048f8f95"
      },
      "execution_count": 110,
      "outputs": [
        {
          "output_type": "stream",
          "name": "stdout",
          "text": [
            "enter the first number = 14\n",
            "enter the second number = 49\n",
            "The H.C.F. is 7\n"
          ]
        }
      ]
    },
    {
      "cell_type": "markdown",
      "source": [
        "31.\tPython Program to find GCD of two numbers using recursion."
      ],
      "metadata": {
        "id": "bq3Sra46soRV"
      }
    },
    {
      "cell_type": "code",
      "source": [
        "def gcd(a,b):\n",
        "    if(b==0):\n",
        "        return a\n",
        "    else:\n",
        "        return gcd(b,a%b)\n",
        "a=int(input(\"Enter first number:\"))\n",
        "b=int(input(\"Enter second number:\"))\n",
        "GCD=gcd(a,b)\n",
        "print(\"GCD is: \")\n",
        "print(GCD)"
      ],
      "metadata": {
        "colab": {
          "base_uri": "https://localhost:8080/"
        },
        "id": "ujna6o6SsxvJ",
        "outputId": "54657618-e3e1-4d14-bd29-642ab72da524"
      },
      "execution_count": 112,
      "outputs": [
        {
          "output_type": "stream",
          "name": "stdout",
          "text": [
            "Enter first number:30\n",
            "Enter second number:60\n",
            "GCD is: \n",
            "30\n"
          ]
        }
      ]
    },
    {
      "cell_type": "markdown",
      "source": [
        "32.\tPython Program to Convert Decimal Number into Binary."
      ],
      "metadata": {
        "id": "AORmN68VtrXp"
      }
    },
    {
      "cell_type": "code",
      "source": [
        "def convertToBinary(n):\n",
        "   if n > 1:\n",
        "       convertToBinary(n//2)\n",
        "   print(n % 2,end = '')\n",
        "\n",
        "dec =int(input('enter the number in decimal : '))\n",
        "\n",
        "convertToBinary(dec)\n",
        "print('  in binary')\n"
      ],
      "metadata": {
        "colab": {
          "base_uri": "https://localhost:8080/"
        },
        "id": "bFS2qnvmt0xT",
        "outputId": "a088ddcb-3711-48b8-f68a-1e9382c9ee3e"
      },
      "execution_count": 127,
      "outputs": [
        {
          "output_type": "stream",
          "name": "stdout",
          "text": [
            "enter the number in decimal : 7\n",
            "111  in binary\n"
          ]
        }
      ]
    },
    {
      "cell_type": "markdown",
      "source": [
        "33.\tPython Program to convert Decimal number to Octal number."
      ],
      "metadata": {
        "id": "XEY6Pgd1xvAS"
      }
    },
    {
      "cell_type": "code",
      "source": [
        "def convertTooctal(n):\n",
        "   if n > 1:\n",
        "       convertTooctal(n//8)\n",
        "   print(n % 8,end = '')\n",
        "\n",
        "dec =int(input('enter the number in decimal : '))\n",
        "\n",
        "convertTooctal(dec)\n",
        "print('  in octal')\n"
      ],
      "metadata": {
        "colab": {
          "base_uri": "https://localhost:8080/"
        },
        "id": "VjK8PH4Nx2pp",
        "outputId": "62dcfdf7-1d31-4a31-8d41-9a651a03ae9c"
      },
      "execution_count": 126,
      "outputs": [
        {
          "output_type": "stream",
          "name": "stdout",
          "text": [
            "enter the number in decimal : 33\n",
            "041  in octal\n"
          ]
        }
      ]
    },
    {
      "cell_type": "markdown",
      "source": [
        "34.\tPython Program to check the given year is a leap year or not."
      ],
      "metadata": {
        "id": "IpcrXFMlzPOT"
      }
    },
    {
      "cell_type": "code",
      "source": [
        "year =int(input('enter the year want to be checked = '))\n",
        "if (year % 400 == 0) and (year % 100 == 0):\n",
        "    print(\"{0} is a leap year\".format(year))\n",
        "\n",
        "elif (year % 4 ==0) and (year % 100 != 0):\n",
        "    print(\"{0} is a leap year\".format(year))\n",
        "\n",
        "else:\n",
        "    print(\"{0} is not a leap year\".format(year))"
      ],
      "metadata": {
        "colab": {
          "base_uri": "https://localhost:8080/"
        },
        "id": "QSFDhijfzall",
        "outputId": "9f97fe50-89e6-46f2-db72-f03051a8feda"
      },
      "execution_count": 128,
      "outputs": [
        {
          "output_type": "stream",
          "name": "stdout",
          "text": [
            "enter the year want to be checked = 2000\n",
            "2000 is a leap year\n"
          ]
        }
      ]
    },
    {
      "cell_type": "markdown",
      "source": [
        "35.\tPython Program to convert Celsius to Fahrenheit."
      ],
      "metadata": {
        "id": "SvG2oZ8I0M8l"
      }
    },
    {
      "cell_type": "code",
      "source": [
        "celsius = float(input(\"Enter temperature in celsius: \"))\n",
        "fahrenheit = (celsius * 1.8) + 32\n",
        "print(str(celsius )+ \" degree Celsius is equal to \" + str(fahrenheit )+ \" degree Fahrenheit.\")"
      ],
      "metadata": {
        "colab": {
          "base_uri": "https://localhost:8080/"
        },
        "id": "C9xwmCfp0UE1",
        "outputId": "a4015c76-3b6b-47f9-bfbc-f1e81a7c4c37"
      },
      "execution_count": 132,
      "outputs": [
        {
          "output_type": "stream",
          "name": "stdout",
          "text": [
            "Enter temperature in celsius: 25\n",
            "25.0 degree Celsius is equal to 77.0 degree Fahrenheit.\n"
          ]
        }
      ]
    },
    {
      "cell_type": "markdown",
      "source": [
        "36.\tPython Program to convert Fahrenheit to Celsius."
      ],
      "metadata": {
        "id": "91qOPkgW1LE-"
      }
    },
    {
      "cell_type": "code",
      "source": [
        "fahrenheit = float(input(\"Enter temperature in fahrenheit: \"))\n",
        "celsius = (fahrenheit - 32)/1.8\n",
        "print(str(fahrenheit )+ \" degree Fahrenheit is equal to \" + str(celsius ) + \" degree Celsius.\" )"
      ],
      "metadata": {
        "colab": {
          "base_uri": "https://localhost:8080/"
        },
        "id": "8qSWmYxP1XXN",
        "outputId": "d6a319d1-0d3d-4ad5-87f0-a6c94939ae20"
      },
      "execution_count": 131,
      "outputs": [
        {
          "output_type": "stream",
          "name": "stdout",
          "text": [
            "Enter temperature in fahrenheit: 78\n",
            "78.0 degree Fahrenheit is equal to 25.555555555555554 degree Celsius.\n"
          ]
        }
      ]
    },
    {
      "cell_type": "markdown",
      "source": [
        "37.\tPython program to calculate Simple Interest with explanation."
      ],
      "metadata": {
        "id": "EeEDMqOz2G5w"
      }
    },
    {
      "cell_type": "code",
      "source": [
        "\n",
        "Amount = int(input(\"Enter the amount: \"))\n",
        "# Enter the number of years\n",
        "Year = int(input(\"Enter the number of years: \"))\n",
        "# Enter the rate of interest\n",
        "Rate = float(input(\"Enter the rate of interest: \"))\n",
        "if(year<1): #as here intrest is calculated annually\n",
        "   print('no intrest for you')\n",
        "else:\n",
        "  SimpleInterset = (Amount*Year*Rate)/100  #using the simple intrest formula\n",
        "\n",
        "print(\"The simple interset is:\", SimpleInterset)\n"
      ],
      "metadata": {
        "colab": {
          "base_uri": "https://localhost:8080/"
        },
        "id": "kCDDwFn62Mv5",
        "outputId": "d6921c3e-151e-410e-c9f5-d7cf4f382499"
      },
      "execution_count": 133,
      "outputs": [
        {
          "output_type": "stream",
          "name": "stdout",
          "text": [
            "Enter the amount: 6000\n",
            "Enter the number of years: 7\n",
            "Enter the rate of interest: 10\n",
            "The simple interset is: 4200.0\n"
          ]
        }
      ]
    }
  ]
}