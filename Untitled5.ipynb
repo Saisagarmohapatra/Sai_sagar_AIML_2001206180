{
  "nbformat": 4,
  "nbformat_minor": 0,
  "metadata": {
    "colab": {
      "provenance": [],
      "authorship_tag": "ABX9TyOAQUDXHsIqzG/EjFfwpWci",
      "include_colab_link": true
    },
    "kernelspec": {
      "name": "python3",
      "display_name": "Python 3"
    },
    "language_info": {
      "name": "python"
    }
  },
  "cells": [
    {
      "cell_type": "markdown",
      "metadata": {
        "id": "view-in-github",
        "colab_type": "text"
      },
      "source": [
        "<a href=\"https://colab.research.google.com/github/Saisagarmohapatra/Sai_sagar_AIML_2001206180/blob/main/Untitled5.ipynb\" target=\"_parent\"><img src=\"https://colab.research.google.com/assets/colab-badge.svg\" alt=\"Open In Colab\"/></a>"
      ]
    },
    {
      "cell_type": "code",
      "source": [
        "def sum(a,b):\n",
        "  return(a+b)\n",
        "print(sum(9,7))"
      ],
      "metadata": {
        "colab": {
          "base_uri": "https://localhost:8080/"
        },
        "id": "Qu_dc-J_ngd3",
        "outputId": "2ff7ac32-14b5-483a-b2ed-e62d622f2087"
      },
      "execution_count": 6,
      "outputs": [
        {
          "output_type": "stream",
          "name": "stdout",
          "text": [
            "16\n"
          ]
        }
      ]
    },
    {
      "cell_type": "code",
      "execution_count": 5,
      "metadata": {
        "colab": {
          "base_uri": "https://localhost:8080/"
        },
        "id": "S_wbo7wLl_f-",
        "outputId": "e8b018c8-e436-4a99-e6d8-879c2811a1e3"
      },
      "outputs": [
        {
          "output_type": "stream",
          "name": "stdout",
          "text": [
            "enter the first number = 4\n",
            "enter the second number = 5\n",
            "9\n"
          ]
        }
      ],
      "source": [
        "def sum(a,b):\n",
        "  return(a+b)\n",
        "a=int(input('enter the first number = '))\n",
        "b=int(input('enter the second number = '))\n",
        "print(sum(a,b))"
      ]
    },
    {
      "cell_type": "code",
      "source": [
        "def pattern(rows):\n",
        "  for i in range(0,rows+1):\n",
        "    for j in range(i):\n",
        "      print(i,end='')\n",
        "    print()\n",
        "rows=int(input('enter the rows = '))\n",
        "pattern(rows)"
      ],
      "metadata": {
        "colab": {
          "base_uri": "https://localhost:8080/"
        },
        "id": "yH7FlRh0oO-9",
        "outputId": "d99faa7b-1f4d-4eaf-e101-4080133f05e8"
      },
      "execution_count": 14,
      "outputs": [
        {
          "output_type": "stream",
          "name": "stdout",
          "text": [
            "enter the rows = 5\n",
            "\n",
            "1\n",
            "22\n",
            "333\n",
            "4444\n",
            "55555\n"
          ]
        }
      ]
    },
    {
      "cell_type": "code",
      "source": [
        "def pattern(rows):\n",
        "  for i in range(0,rows):\n",
        "    for j in range(i,rows):\n",
        "      print(rows-i,end='')\n",
        "    print()\n",
        "rows=int(input('enter the rows = '))\n",
        "pattern(rows)"
      ],
      "metadata": {
        "colab": {
          "base_uri": "https://localhost:8080/"
        },
        "id": "veYKuL1gqlBm",
        "outputId": "d8d4b386-17af-498d-ceb8-da3031869ece"
      },
      "execution_count": 15,
      "outputs": [
        {
          "output_type": "stream",
          "name": "stdout",
          "text": [
            "enter the rows = 7\n",
            "7777777\n",
            "666666\n",
            "55555\n",
            "4444\n",
            "333\n",
            "22\n",
            "1\n"
          ]
        }
      ]
    },
    {
      "cell_type": "code",
      "source": [
        "def greet():\n",
        "  message='hello'\n",
        "  print('local',message)\n",
        "greet()\n",
        "message='ABIT CSE'\n",
        "print(message)"
      ],
      "metadata": {
        "colab": {
          "base_uri": "https://localhost:8080/"
        },
        "id": "Q-pI2-9Psg6-",
        "outputId": "0ee114af-93c1-46c1-a4bf-3230ac395500"
      },
      "execution_count": 17,
      "outputs": [
        {
          "output_type": "stream",
          "name": "stdout",
          "text": [
            "local hello\n",
            "ABIT CSE\n"
          ]
        }
      ]
    },
    {
      "cell_type": "code",
      "source": [
        "add=lambda num:num+4\n",
        "print(add(6))"
      ],
      "metadata": {
        "colab": {
          "base_uri": "https://localhost:8080/"
        },
        "id": "PHlo1E_TwS1t",
        "outputId": "c80f4bac-ded5-4d6f-e66e-b9cba6a52428"
      },
      "execution_count": 19,
      "outputs": [
        {
          "output_type": "stream",
          "name": "stdout",
          "text": [
            "10\n"
          ]
        }
      ]
    },
    {
      "cell_type": "code",
      "source": [
        "a=lambda x,y:x+y\n",
        "print(a(1,2))"
      ],
      "metadata": {
        "colab": {
          "base_uri": "https://localhost:8080/"
        },
        "id": "G4RGuFtwwhzX",
        "outputId": "6b2339a7-c38e-484f-95aa-0a54a4cea643"
      },
      "execution_count": 20,
      "outputs": [
        {
          "output_type": "stream",
          "name": "stdout",
          "text": [
            "3\n"
          ]
        }
      ]
    },
    {
      "cell_type": "code",
      "source": [
        "a=lambda x,y,z:x+y+z\n",
        "x=int(input('enter the value of x = '))\n",
        "y=int(input('enter the value of y = '))\n",
        "z=int(input('enter the value of z = '))\n",
        "print(a(x,y,z))"
      ],
      "metadata": {
        "colab": {
          "base_uri": "https://localhost:8080/"
        },
        "id": "h8HzS2nfw8NZ",
        "outputId": "c6415b18-01c6-4d48-a642-e0953ea85a99"
      },
      "execution_count": 23,
      "outputs": [
        {
          "output_type": "stream",
          "name": "stdout",
          "text": [
            "enter the value of x = 8\n",
            "enter the value of y = 8\n",
            "enter the value of z = 7\n",
            "23\n"
          ]
        }
      ]
    },
    {
      "cell_type": "code",
      "source": [
        "def factorial(x):\n",
        "  if x==1:\n",
        "    return 1\n",
        "  else:\n",
        "    return(x*factorial(x-1))\n",
        "num=int(input('enter the number ='))\n",
        "print(factorial(num))"
      ],
      "metadata": {
        "colab": {
          "base_uri": "https://localhost:8080/"
        },
        "id": "V9wePu71uxbE",
        "outputId": "700ff0d2-29a7-410f-dd50-b95d4c3793d8"
      },
      "execution_count": 24,
      "outputs": [
        {
          "output_type": "stream",
          "name": "stdout",
          "text": [
            "enter the number =3\n",
            "6\n"
          ]
        }
      ]
    },
    {
      "cell_type": "code",
      "source": [
        "def fib(num):\n",
        "  if num==0 or num==1:\n",
        "    return num\n",
        "  else:\n",
        "     return(fib(num-1)+fib(num-2))\n",
        "num=int(input('enter number of terms = '))\n",
        "for i in range(num):\n",
        "  print(fib(i))"
      ],
      "metadata": {
        "colab": {
          "base_uri": "https://localhost:8080/"
        },
        "id": "FQ2d5gnmzqU8",
        "outputId": "f8faf1bf-5182-42a0-a917-2861a72e3f32"
      },
      "execution_count": 27,
      "outputs": [
        {
          "output_type": "stream",
          "name": "stdout",
          "text": [
            "enter number of terms = 7\n",
            "0\n",
            "1\n",
            "1\n",
            "2\n",
            "3\n",
            "5\n",
            "8\n"
          ]
        }
      ]
    },
    {
      "cell_type": "code",
      "source": [
        "import math as sai\n",
        "pie=sai.pi\n",
        "print('the value of pi is : ',pie)"
      ],
      "metadata": {
        "colab": {
          "base_uri": "https://localhost:8080/"
        },
        "id": "DFKQdlv12k6G",
        "outputId": "00eb9cf6-0c8b-4e28-c66d-888a327402eb"
      },
      "execution_count": 30,
      "outputs": [
        {
          "output_type": "stream",
          "name": "stdout",
          "text": [
            "the value of pi is :  3.141592653589793\n"
          ]
        }
      ]
    },
    {
      "cell_type": "code",
      "source": [
        "import random\n",
        "for i in range(10):\n",
        "    print(random.randint(1,25))"
      ],
      "metadata": {
        "colab": {
          "base_uri": "https://localhost:8080/"
        },
        "id": "c2Msq6mN3TDv",
        "outputId": "0294bab5-3f3c-49cf-ff45-3bfa627a6cb2"
      },
      "execution_count": 31,
      "outputs": [
        {
          "output_type": "stream",
          "name": "stdout",
          "text": [
            "22\n",
            "18\n",
            "11\n",
            "4\n",
            "22\n",
            "22\n",
            "2\n",
            "11\n",
            "19\n",
            "12\n"
          ]
        }
      ]
    },
    {
      "cell_type": "code",
      "source": [
        "import random\n",
        "import math\n",
        "for i in range(10):\n",
        "    print(random.randint(1,25))\n",
        "print(math.pi)"
      ],
      "metadata": {
        "colab": {
          "base_uri": "https://localhost:8080/"
        },
        "id": "kb39bZQO3v92",
        "outputId": "083dd994-e538-4faf-b8de-495de8571092"
      },
      "execution_count": 32,
      "outputs": [
        {
          "output_type": "stream",
          "name": "stdout",
          "text": [
            "9\n",
            "12\n",
            "7\n",
            "9\n",
            "22\n",
            "1\n",
            "23\n",
            "21\n",
            "23\n",
            "5\n",
            "3.141592653589793\n"
          ]
        }
      ]
    },
    {
      "cell_type": "code",
      "source": [],
      "metadata": {
        "id": "3SpXzVvb54m-"
      },
      "execution_count": null,
      "outputs": []
    }
  ]
}