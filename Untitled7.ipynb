{
  "nbformat": 4,
  "nbformat_minor": 0,
  "metadata": {
    "colab": {
      "provenance": [],
      "toc_visible": true,
      "authorship_tag": "ABX9TyPw8jBnbNAWcLviR1+7MuZm",
      "include_colab_link": true
    },
    "kernelspec": {
      "name": "python3",
      "display_name": "Python 3"
    },
    "language_info": {
      "name": "python"
    }
  },
  "cells": [
    {
      "cell_type": "markdown",
      "metadata": {
        "id": "view-in-github",
        "colab_type": "text"
      },
      "source": [
        "<a href=\"https://colab.research.google.com/github/Saisagarmohapatra/Sai_sagar_AIML_2001206180/blob/main/Untitled7.ipynb\" target=\"_parent\"><img src=\"https://colab.research.google.com/assets/colab-badge.svg\" alt=\"Open In Colab\"/></a>"
      ]
    },
    {
      "cell_type": "markdown",
      "source": [
        "write a python program thebase class contains addition of two numbers but the derived class contains the multiplication of te same numbers "
      ],
      "metadata": {
        "id": "1vAWMLN7qHFq"
      }
    },
    {
      "cell_type": "code",
      "execution_count": 5,
      "metadata": {
        "colab": {
          "base_uri": "https://localhost:8080/"
        },
        "id": "UqkmA4DgpyJV",
        "outputId": "76665ffb-d177-4ab1-fca8-e49480e26fbc"
      },
      "outputs": [
        {
          "output_type": "stream",
          "name": "stdout",
          "text": [
            "the first number is =5\n",
            "the second number is =5\n",
            "the addition of two number is =  10\n",
            "the multiplication of the two number is =  25\n"
          ]
        }
      ],
      "source": [
        "class sai:\n",
        "  def add(self,a,b):\n",
        "    return a+b\n",
        "class sagar(sai):\n",
        "  def multi(self,a,b):\n",
        "    return a*b\n",
        "d=sagar()\n",
        "a=int(input('the first number is ='))\n",
        "b=int(input('the second number is ='))\n",
        "print('the addition of two number is = ',d.add(a,b))\n",
        "print('the multiplication of the two number is = ',d.multi(a,b))"
      ]
    },
    {
      "cell_type": "markdown",
      "source": [
        "write a python program using multilevel inheritance to design an calculator which contains four derived of derive class and one child class"
      ],
      "metadata": {
        "id": "_D2XCjAiv_aG"
      }
    },
    {
      "cell_type": "code",
      "source": [
        "class A:\n",
        "  def add(self,x,y):\n",
        "    return x+y\n",
        "class B(A):\n",
        "  def min(self,x,y):\n",
        "    return x-y\n",
        "class C(B):\n",
        "  def mul(self,x,y):\n",
        "    return x*y\n",
        "class D(C):\n",
        "  def Div(self,x,y):\n",
        "    return x/y\n",
        "s=D()\n",
        "x=int(input('enter the first number = '))\n",
        "y=int(input('enter the Second number = '))\n",
        "ch=int(input('enter your choice = '))\n",
        "if ch==1:\n",
        "  print(s.add(x,y))\n",
        "elif ch==2:\n",
        "  print(s.min(x,y))\n",
        "elif ch==3:\n",
        "  print(s.mul(x,y))\n",
        "elif ch==4:\n",
        "  print(s.div(x,y))\n"
      ],
      "metadata": {
        "colab": {
          "base_uri": "https://localhost:8080/"
        },
        "id": "qXg4ZHm2xM_M",
        "outputId": "ecca23d5-a9ab-494e-c37c-6e6ad9ca796a"
      },
      "execution_count": 8,
      "outputs": [
        {
          "output_type": "stream",
          "name": "stdout",
          "text": [
            "enter the first number = 3\n",
            "enter the Second number = 5\n",
            "enter your choice = 3\n",
            "15\n"
          ]
        }
      ]
    },
    {
      "cell_type": "markdown",
      "source": [
        "Write a python program to input employee infaormation employee id, name, basic salary,hra=15%,pa=5% and medical allowence is 5000 and its 10% more than 10000 using sinle inheritance the base cls contains all the employee informations but the derive class contaions net salary of a employee with all informations."
      ],
      "metadata": {
        "id": "FlIPg6W52ABl"
      }
    },
    {
      "cell_type": "code",
      "source": [],
      "metadata": {
        "id": "bGQuSLS42LKh"
      },
      "execution_count": null,
      "outputs": []
    },
    {
      "cell_type": "markdown",
      "source": [
        "numpy"
      ],
      "metadata": {
        "id": "yWiS1DyU4l9X"
      }
    },
    {
      "cell_type": "code",
      "source": [
        "import numpy as np\n",
        "print(np.__version__)"
      ],
      "metadata": {
        "id": "8zhLdq4_4nhX",
        "outputId": "7c8f606b-a734-4e1d-dd8b-0db8bfbc60b9",
        "colab": {
          "base_uri": "https://localhost:8080/"
        }
      },
      "execution_count": 9,
      "outputs": [
        {
          "output_type": "stream",
          "name": "stdout",
          "text": [
            "1.22.4\n"
          ]
        }
      ]
    },
    {
      "cell_type": "code",
      "source": [
        "import numpy\n",
        "list=[10,20,30,40,50]\n",
        "arr=numpy.array(list)\n",
        "print(arr)"
      ],
      "metadata": {
        "id": "3Vbze9gw6CJn",
        "outputId": "f0dc20a8-4e61-4fe2-a0a1-4cfac6619774",
        "colab": {
          "base_uri": "https://localhost:8080/"
        }
      },
      "execution_count": 10,
      "outputs": [
        {
          "output_type": "stream",
          "name": "stdout",
          "text": [
            "[10 20 30 40 50]\n"
          ]
        }
      ]
    },
    {
      "cell_type": "code",
      "source": [
        "import numpy as np\n",
        "list=[10,20,30,40,50]\n",
        "arr=np.array(list)\n",
        "print(arr)"
      ],
      "metadata": {
        "id": "YBvtifmk6yW2",
        "outputId": "966b111e-9fa0-43b4-cb77-44409232481c",
        "colab": {
          "base_uri": "https://localhost:8080/"
        }
      },
      "execution_count": 11,
      "outputs": [
        {
          "output_type": "stream",
          "name": "stdout",
          "text": [
            "[10 20 30 40 50]\n"
          ]
        }
      ]
    },
    {
      "cell_type": "code",
      "source": [
        "import numpy as np\n",
        "list=[10,20,30,40,50]\n",
        "arr=np.array(list)\n",
        "print('Size = ',arr.size)\n",
        "print('Datatype = ',arr.dtype)\n",
        "print('Dimension = ',arr.ndim)\n",
        "print('Shape = ',arr.shape)"
      ],
      "metadata": {
        "id": "RgeMIdT46o1i",
        "outputId": "56e72581-4077-4a66-fa58-80962f269c60",
        "colab": {
          "base_uri": "https://localhost:8080/"
        }
      },
      "execution_count": 14,
      "outputs": [
        {
          "output_type": "stream",
          "name": "stdout",
          "text": [
            "Size =  5\n",
            "Datatype =  int64\n",
            "Dimension =  1\n",
            "Shape =  (5,)\n",
            "Size =  5\n",
            "Datatype =  int64\n",
            "Dimension =  1\n",
            "Shape =  (5,)\n"
          ]
        }
      ]
    },
    {
      "cell_type": "code",
      "source": [
        "import numpy as np\n",
        "list=[10,20,30,],[40,50,60]\n",
        "arr=np.array(list)\n",
        "print(arr[1])"
      ],
      "metadata": {
        "id": "z3WNvGim8BON",
        "outputId": "47319112-0047-4bee-e55d-7b2a52905773",
        "colab": {
          "base_uri": "https://localhost:8080/"
        }
      },
      "execution_count": 17,
      "outputs": [
        {
          "output_type": "stream",
          "name": "stdout",
          "text": [
            "[40 50 60]\n"
          ]
        }
      ]
    },
    {
      "cell_type": "code",
      "source": [
        "import numpy as np\n",
        "list=[10,20,30,],[40,50,60]\n",
        "arr=np.array(list)\n",
        "print(arr[1][1])"
      ],
      "metadata": {
        "id": "ftsSZ8hF8nfW",
        "outputId": "6b2d88cb-702f-4eef-9245-a75903fb49ed",
        "colab": {
          "base_uri": "https://localhost:8080/"
        }
      },
      "execution_count": 18,
      "outputs": [
        {
          "output_type": "stream",
          "name": "stdout",
          "text": [
            "50\n"
          ]
        }
      ]
    },
    {
      "cell_type": "code",
      "source": [
        "import numpy as np\n",
        "list=[[[1,2,3],[4,5,6],[7,8,9]]]\n",
        "arr=np.array(list)\n",
        "print(arr)"
      ],
      "metadata": {
        "id": "HwAhRLp_-blM",
        "outputId": "75c9c6ec-54c1-4292-a598-20a63e4f1812",
        "colab": {
          "base_uri": "https://localhost:8080/"
        }
      },
      "execution_count": 19,
      "outputs": [
        {
          "output_type": "stream",
          "name": "stdout",
          "text": [
            "[[[1 2 3]\n",
            "  [4 5 6]\n",
            "  [7 8 9]]]\n"
          ]
        }
      ]
    },
    {
      "cell_type": "code",
      "source": [
        "import numpy as np\n",
        "list=[10,20,30,40,50,60]\n",
        "arr=np.array(list)\n",
        "print('Element')\n",
        "for ele in arr:\n",
        "  print(ele)"
      ],
      "metadata": {
        "id": "_HFfYNjY_jib",
        "outputId": "1742b38f-e669-4213-fc35-ed487e875114",
        "colab": {
          "base_uri": "https://localhost:8080/"
        }
      },
      "execution_count": 21,
      "outputs": [
        {
          "output_type": "stream",
          "name": "stdout",
          "text": [
            "Element\n",
            "10\n",
            "20\n",
            "30\n",
            "40\n",
            "50\n",
            "60\n"
          ]
        }
      ]
    },
    {
      "cell_type": "code",
      "source": [
        "import numpy as np\n",
        "list=[10,20,30,40,50,60]\n",
        "arr=np.array(list)\n",
        "print('Element')\n",
        "for ele in arr:\n",
        "  print(ele*2)"
      ],
      "metadata": {
        "id": "kju-VffQAIKf",
        "outputId": "e015cc72-ad91-4816-f692-e96e28e3a0aa",
        "colab": {
          "base_uri": "https://localhost:8080/"
        }
      },
      "execution_count": 22,
      "outputs": [
        {
          "output_type": "stream",
          "name": "stdout",
          "text": [
            "Element\n",
            "20\n",
            "40\n",
            "60\n",
            "80\n",
            "100\n",
            "120\n"
          ]
        }
      ]
    },
    {
      "cell_type": "code",
      "source": [
        "import numpy as np\n",
        "ndArray=np.array([1,2,3,4],ndmin=6)\n",
        "print(ndArray)\n",
        "print('Dimension of array = ',ndArray.ndim)"
      ],
      "metadata": {
        "id": "ubJPLrz6APaC",
        "outputId": "5b5904be-1a3c-4287-cc4b-4ff77f3974bc",
        "colab": {
          "base_uri": "https://localhost:8080/"
        }
      },
      "execution_count": 25,
      "outputs": [
        {
          "output_type": "stream",
          "name": "stdout",
          "text": [
            "[[[[[[1 2 3 4]]]]]]\n",
            "Dimension of array =  6\n",
            "[[[[[[1 2 3 4]]]]]]\n",
            "Dimension of array =  6\n"
          ]
        }
      ]
    }
  ]
}