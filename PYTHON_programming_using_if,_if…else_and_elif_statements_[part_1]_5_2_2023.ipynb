{
  "nbformat": 4,
  "nbformat_minor": 0,
  "metadata": {
    "colab": {
      "provenance": [],
      "authorship_tag": "ABX9TyM4mLmkZQJ1LgPrBGVvgnsU",
      "include_colab_link": true
    },
    "kernelspec": {
      "name": "python3",
      "display_name": "Python 3"
    },
    "language_info": {
      "name": "python"
    }
  },
  "cells": [
    {
      "cell_type": "markdown",
      "metadata": {
        "id": "view-in-github",
        "colab_type": "text"
      },
      "source": [
        "<a href=\"https://colab.research.google.com/github/Saisagarmohapatra/Sai_sagar_AIML_2001206180/blob/main/PYTHON_programming_using_if%2C_if%E2%80%A6else_and_elif_statements_%5Bpart_1%5D_5_2_2023.ipynb\" target=\"_parent\"><img src=\"https://colab.research.google.com/assets/colab-badge.svg\" alt=\"Open In Colab\"/></a>"
      ]
    },
    {
      "cell_type": "markdown",
      "source": [
        "Write a PYTHON programming using if, if…else and elif statements: \n",
        "[part:1]"
      ],
      "metadata": {
        "id": "JRGRhtO3VWA1"
      }
    },
    {
      "cell_type": "markdown",
      "source": [
        "1. A company decided to give bonus of 5% to employee if his/her year of service is more than 5 years. Ask user for their salary and year of service and print the net bonus amount."
      ],
      "metadata": {
        "id": "lh8QZXEYVZns"
      }
    },
    {
      "cell_type": "code",
      "execution_count": 3,
      "metadata": {
        "colab": {
          "base_uri": "https://localhost:8080/"
        },
        "id": "UGnU4NQBVMSt",
        "outputId": "a3396c6c-bf5f-4379-b188-ff59a77ecd61"
      },
      "outputs": [
        {
          "output_type": "stream",
          "name": "stdout",
          "text": [
            "Enter the salary of the employee = 7000\n",
            "Enter the year of service of the employee =7\n",
            "your bonus amount =  350.0\n"
          ]
        }
      ],
      "source": [
        "#using only if statement\n",
        "sal=float(input('Enter the salary of the employee = '))\n",
        "ys=int(input('Enter the year of service of the employee ='))\n",
        "if(ys>5):\n",
        "  bonus=sal*5/100\n",
        "  print('your bonus amount = ',bonus)"
      ]
    },
    {
      "cell_type": "code",
      "source": [
        "#using if else statement\n",
        "sal=float(input('Enter the salary of the employee = '))\n",
        "ys=int(input('Enter the year of service of the employee ='))\n",
        "if(ys>5):\n",
        "  bonus=sal*5/100\n",
        "  print('your bonus amount = ',bonus)\n",
        "else :\n",
        "    print('there is no bonus for you !')"
      ],
      "metadata": {
        "colab": {
          "base_uri": "https://localhost:8080/"
        },
        "id": "-y0njB_wa4c6",
        "outputId": "3530b448-e4b8-4fd6-e45e-47badaec7fbe"
      },
      "execution_count": 5,
      "outputs": [
        {
          "output_type": "stream",
          "name": "stdout",
          "text": [
            "Enter the salary of the employee = 7000\n",
            "Enter the year of service of the employee =3\n",
            "there is no bonus for you !\n"
          ]
        }
      ]
    },
    {
      "cell_type": "code",
      "source": [
        "#using elif statement\n",
        "sal=float(input('Enter the salary of the employee = '))\n",
        "ys=int(input('Enter the year of service of the employee ='))\n",
        "bonus=sal*5/100\n",
        "if(ys<5):\n",
        "  print('there isno bonus for you !')\n",
        "elif(ys>5):\n",
        "  print('your bonus amount = ',bonus)"
      ],
      "metadata": {
        "colab": {
          "base_uri": "https://localhost:8080/"
        },
        "id": "cNWEOEVMbYkq",
        "outputId": "cb038443-fe46-42a1-894e-c56c257181df"
      },
      "execution_count": 7,
      "outputs": [
        {
          "output_type": "stream",
          "name": "stdout",
          "text": [
            "Enter the salary of the employee = 7000\n",
            "Enter the year of service of the employee =7\n",
            "your bonus amount =  350.0\n"
          ]
        }
      ]
    },
    {
      "cell_type": "markdown",
      "source": [
        "2.Take values of length and breadth of a rectangle from user and check if it is square or not."
      ],
      "metadata": {
        "id": "DUuebYkGdFPi"
      }
    },
    {
      "cell_type": "code",
      "source": [
        "#using only if statement\n",
        "len=int(input('ENTER THE LENGTH OF THE RECTANGLE = '))\n",
        "bre=int(input('ENTER THE BREADTH OF THE RECTANGLE = '))\n",
        "if (len==bre):\n",
        "  print('THIS IS A SQUARE')"
      ],
      "metadata": {
        "colab": {
          "base_uri": "https://localhost:8080/"
        },
        "id": "tYJf0vXMdJxE",
        "outputId": "2a83f069-4435-409a-ffc4-bcc7f2d32293"
      },
      "execution_count": 10,
      "outputs": [
        {
          "output_type": "stream",
          "name": "stdout",
          "text": [
            "ENTER THE LENGTH OF THE RECTANGLE = 5\n",
            "ENTER THE BREADTH OF THE RECTANGLE = 5\n",
            "THIS IS A SQUARE\n"
          ]
        }
      ]
    },
    {
      "cell_type": "code",
      "source": [
        "#using if else statement\n",
        "len=int(input('ENTER THE LENGTH OF THE RECTANGLE = '))\n",
        "bre=int(input('ENTER THE BREADTH OF THE RECTANGLE = '))\n",
        "if (len==bre):\n",
        "  print('THIS IS A SQUARE')\n",
        "else:\n",
        "  print('THIS IS NOT A SQUARE')"
      ],
      "metadata": {
        "colab": {
          "base_uri": "https://localhost:8080/"
        },
        "id": "eCBQE9FXefM1",
        "outputId": "563212ef-7190-494e-dff0-e186c6e030b2"
      },
      "execution_count": 11,
      "outputs": [
        {
          "output_type": "stream",
          "name": "stdout",
          "text": [
            "ENTER THE LENGTH OF THE RECTANGLE = 6\n",
            "ENTER THE BREADTH OF THE RECTANGLE = 7\n",
            "THIS IS NOT A SQUARE\n"
          ]
        }
      ]
    },
    {
      "cell_type": "code",
      "source": [
        "#using elif statement\n",
        "len=int(input('ENTER THE LENGTH OF THE RECTANGLE = '))\n",
        "bre=int(input('ENTER THE BREADTH OF THE RECTANGLE = '))\n",
        "if (len<bre):\n",
        "  print('THIS IS NOT A SQUARE')\n",
        "elif(len>bre):\n",
        "  print('THIS IS NOT A SQUARE')\n",
        "elif(len==bre):\n",
        "  print('THIS IS A SQUARE')"
      ],
      "metadata": {
        "colab": {
          "base_uri": "https://localhost:8080/"
        },
        "id": "_rPW2647e7AD",
        "outputId": "4be6f999-d110-4d2a-f8c8-0e7bb5007321"
      },
      "execution_count": 12,
      "outputs": [
        {
          "output_type": "stream",
          "name": "stdout",
          "text": [
            "ENTER THE LENGTH OF THE RECTANGLE = 9\n",
            "ENTER THE BREADTH OF THE RECTANGLE = 9\n",
            "THIS IS A SQUARE\n"
          ]
        }
      ]
    },
    {
      "cell_type": "markdown",
      "source": [
        "3. Take two int values from user and print greatest among them."
      ],
      "metadata": {
        "id": "Aa-TLp2Uf0Od"
      }
    },
    {
      "cell_type": "code",
      "source": [
        "#using only if statement\n",
        "a=int(input('ENTER THE FIRST NUMBER = '))\n",
        "b=int(input('ENTER THE SECOND NUMBER = '))\n",
        "if(a<b):\n",
        "  print(b,'IS GREATEST')\n",
        "if(a>b):\n",
        "  print(a,'IS THE GREATEST')"
      ],
      "metadata": {
        "colab": {
          "base_uri": "https://localhost:8080/"
        },
        "id": "kHfihGQ2f7sj",
        "outputId": "9ed278db-073d-4588-e1c1-a883726332cf"
      },
      "execution_count": 13,
      "outputs": [
        {
          "output_type": "stream",
          "name": "stdout",
          "text": [
            "ENTER THE FIRST NUMBER = 6\n",
            "ENTER THE SECOND NUMBER = 5\n",
            "6 IS THE GREATEST\n"
          ]
        }
      ]
    },
    {
      "cell_type": "code",
      "source": [
        "#using if else statement\n",
        "a=int(input('ENTER THE FIRST NUMBER = '))\n",
        "b=int(input('ENTER THE SECOND NUMBER = '))\n",
        "if(a<b):\n",
        "  print(b,'IS GREATEST')\n",
        "else:\n",
        "  print(a,'IS THE GREATEST')"
      ],
      "metadata": {
        "colab": {
          "base_uri": "https://localhost:8080/"
        },
        "id": "NDu977QbhQQd",
        "outputId": "1331c3a6-3a7b-48b8-ab59-31cf56114baf"
      },
      "execution_count": 14,
      "outputs": [
        {
          "output_type": "stream",
          "name": "stdout",
          "text": [
            "ENTER THE FIRST NUMBER = 8\n",
            "ENTER THE SECOND NUMBER = 4\n",
            "8 IS THE GREATEST\n"
          ]
        }
      ]
    },
    {
      "cell_type": "code",
      "source": [
        "#using elif statement\n",
        "a=int(input('ENTER THE FIRST NUMBER = '))\n",
        "b=int(input('ENTER THE SECOND NUMBER = '))\n",
        "if(a<b):\n",
        "  print(b,'IS GREATEST')\n",
        "elif(a>b):\n",
        "  print(a,'IS THE GREATEST')"
      ],
      "metadata": {
        "colab": {
          "base_uri": "https://localhost:8080/"
        },
        "id": "nBD4nWPyhnU9",
        "outputId": "f80cbe8b-7a16-43b3-a6a7-845b277fc321"
      },
      "execution_count": 15,
      "outputs": [
        {
          "output_type": "stream",
          "name": "stdout",
          "text": [
            "ENTER THE FIRST NUMBER = 8\n",
            "ENTER THE SECOND NUMBER = 7\n",
            "8 IS THE GREATEST\n"
          ]
        }
      ]
    },
    {
      "cell_type": "markdown",
      "source": [
        "4. A shop will give discount of 10% if the cost of purchased quantity is more than 1000. Ask user for quantity suppose, one unit will cost 100. Judge and print total cost for user."
      ],
      "metadata": {
        "id": "cNTczwadh7An"
      }
    },
    {
      "cell_type": "code",
      "source": [
        "#using only if statement\n",
        "quantity=int(input('enter the amount of purchased quantity = '))\n",
        "cost=int(quantity*100)\n",
        "Ta=float(cost-(cost*10/100))\n",
        "if(cost>1000):\n",
        "  print('the total amount = ',Ta)"
      ],
      "metadata": {
        "colab": {
          "base_uri": "https://localhost:8080/"
        },
        "id": "MkHSY6RQiEP8",
        "outputId": "a691c076-2698-413b-cbbb-6c74545231f3"
      },
      "execution_count": 22,
      "outputs": [
        {
          "output_type": "stream",
          "name": "stdout",
          "text": [
            "enter the amount of purchased quantity = 20\n",
            "the total amount =  1800.0\n"
          ]
        }
      ]
    },
    {
      "cell_type": "code",
      "source": [
        "#using if else statement\n",
        "quantity=int(input('enter the amount of purchased quantity = '))\n",
        "cost=int(quantity*100)\n",
        "Ta=float(cost-(cost*10/100))\n",
        "if(cost>1000):\n",
        "  print('the total amount = ',Ta)\n",
        "else:\n",
        "  print('sorry there is no discount for you')\n",
        "  print('your total amount will be =',cost,)"
      ],
      "metadata": {
        "colab": {
          "base_uri": "https://localhost:8080/"
        },
        "id": "4fLAS804l--w",
        "outputId": "846a09c4-bde3-436e-e027-30f674cbbcb9"
      },
      "execution_count": 25,
      "outputs": [
        {
          "output_type": "stream",
          "name": "stdout",
          "text": [
            "enter the amount of purchased quantity = 7\n",
            "sorry there is no discount for you\n",
            "your total amount will be = 700\n"
          ]
        }
      ]
    },
    {
      "cell_type": "code",
      "source": [
        "#using elif statement\n",
        "quantity=int(input('enter the amount of purchased quantity = '))\n",
        "cost=int(quantity*100)\n",
        "Ta=float(cost-(cost*10/100))\n",
        "if(cost<1000):\n",
        "  print('sorry there is no discount for you')\n",
        "  print('your total amount will be =',cost,)\n",
        "elif(cost>1000):\n",
        "  print('the total amount after discount = ',Ta)"
      ],
      "metadata": {
        "colab": {
          "base_uri": "https://localhost:8080/"
        },
        "id": "DyYFC8UQnas_",
        "outputId": "f7556c3e-5ffc-4ab5-a497-bb4bd28d104c"
      },
      "execution_count": 26,
      "outputs": [
        {
          "output_type": "stream",
          "name": "stdout",
          "text": [
            "enter the amount of purchased quantity = 80\n",
            "the total amount after discount =  7200.0\n"
          ]
        }
      ]
    },
    {
      "cell_type": "markdown",
      "source": [
        "5. A school has following rules for grading system:\n",
        "\n",
        "a. Below 25 - F\n",
        "\n",
        "b. 25 to 45 - E\n",
        "\n",
        "c. 45 to 50 - D\n",
        "\n",
        "d. 50 to 60 - C\n",
        "\n",
        "e. 60 to 80 - B\n",
        "\n",
        "f. Above 80 - A\n",
        "\n",
        "Ask user to enter marks and print the corresponding grade.\n"
      ],
      "metadata": {
        "id": "wB8qTYkooXRg"
      }
    },
    {
      "cell_type": "code",
      "source": [
        "#using only if statement\n",
        "marks=int(input('ENTER YOUR MARKS = '))\n",
        "if(marks<25):\n",
        "  print('your grade is F')\n",
        "if(25<marks<45):\n",
        "  print('your grade is E')\n",
        "if(45<marks<50):\n",
        "  print('your grade is D')\n",
        "if(50<marks<60):\n",
        "  print('your grade is C')\n",
        "if(60<marks<80):\n",
        "  print('your grade is B')\n",
        "if(marks>80):\n",
        "  print('your grade is A')"
      ],
      "metadata": {
        "colab": {
          "base_uri": "https://localhost:8080/"
        },
        "id": "pRzkOgpFoQQH",
        "outputId": "bf1b068a-ffd9-4d71-c6f9-5cf2d68bee15"
      },
      "execution_count": 27,
      "outputs": [
        {
          "output_type": "stream",
          "name": "stdout",
          "text": [
            "ENTER YOUR MARKS = 78\n",
            "your grade is B\n"
          ]
        }
      ]
    },
    {
      "cell_type": "code",
      "source": [
        "#using only if statement\n",
        "marks=int(input('ENTER YOUR MARKS = '))\n",
        "if(marks<25):\n",
        "  print('your grade is F')\n",
        "elif(25<marks<45):\n",
        "  print('your grade is E')\n",
        "elif(45<marks<50):\n",
        "  print('your grade is D')\n",
        "elif(50<marks<60):\n",
        "  print('your grade is C')\n",
        "elif(60<marks<80):\n",
        "  print('your grade is B')\n",
        "elif(marks>80):\n",
        "  print('your grade is A')"
      ],
      "metadata": {
        "colab": {
          "base_uri": "https://localhost:8080/"
        },
        "id": "O90w51rvB2K-",
        "outputId": "efb6c6a9-8d20-4554-8cb2-c1677b5de925"
      },
      "execution_count": 2,
      "outputs": [
        {
          "output_type": "stream",
          "name": "stdout",
          "text": [
            "ENTER YOUR MARKS = 89\n",
            "your grade is A\n"
          ]
        }
      ]
    },
    {
      "cell_type": "markdown",
      "source": [
        "6. Take input of age of 3 people by user and determine oldest and youngest among them."
      ],
      "metadata": {
        "id": "5bGagRkfDKZ9"
      }
    },
    {
      "cell_type": "code",
      "source": [
        "a=int(input('enter the age of first person = '))\n",
        "b=int(input('enter the age of the second person = '))\n",
        "c=int(input('enter the age of the third person = '))\n",
        "def largest(a,b,c):\n",
        "  if(a>b) and (a>c):\n",
        "    largest_num=a\n",
        "  elif(b>a) and (b>c):\n",
        "    largest_num=b\n",
        "  else:\n",
        "    largest_num=c\n",
        "  print('THE OLDEST OF THE 3 PERSONS IS =',largest_num)\n",
        "def smallest(a,b,c):\n",
        "  if(a<b) and (a<c):\n",
        "    smallest_num=a\n",
        "  elif(b<a) and (b<c):\n",
        "    smallest_num=b\n",
        "  else:\n",
        "    smallest_num=c\n",
        "  print('THE YOUNGEST OF THE 3 PERSONS IS =',smallest_num)\n",
        "largest(a,b,c)\n",
        "smallest(a,b,c)"
      ],
      "metadata": {
        "colab": {
          "base_uri": "https://localhost:8080/"
        },
        "id": "sXsWufQrDTcu",
        "outputId": "efde9f39-21c5-4df9-95e0-c8ce412545f8"
      },
      "execution_count": 5,
      "outputs": [
        {
          "output_type": "stream",
          "name": "stdout",
          "text": [
            "enter the age of first person = 78\n",
            "enter the age of the second person = 89\n",
            "enter the age of the third person = 9\n",
            "THE OLDEST OF THE 3 PERSONS IS = 89\n",
            "THE YOUNGEST OF THE 3 PERSONS IS = 9\n"
          ]
        }
      ]
    },
    {
      "cell_type": "markdown",
      "source": [
        "7. Write a program to print absolute vlaue of a number entered by user. E.g.-\n",
        "INPUT: 1        OUTPUT: 1\n",
        "INPUT: -1       OUTPUT: 1"
      ],
      "metadata": {
        "id": "7EKr7wYiPfT3"
      }
    },
    {
      "cell_type": "code",
      "source": [
        "value=int(input('enter the number = '))\n",
        "if(value<0):\n",
        "  print('absolute value =',-value)\n",
        "elif(value==0):\n",
        "  print('absolute value =',value)\n",
        "else:\n",
        "  print('absolute value =',value)"
      ],
      "metadata": {
        "colab": {
          "base_uri": "https://localhost:8080/"
        },
        "id": "-3WEvx9fPqOI",
        "outputId": "ca33ecfa-4979-47c4-efce-d6261a3947b5"
      },
      "execution_count": 10,
      "outputs": [
        {
          "output_type": "stream",
          "name": "stdout",
          "text": [
            "enter the number = -6\n",
            "absolute value = 6\n"
          ]
        }
      ]
    },
    {
      "cell_type": "markdown",
      "source": [
        "8. A student will not be allowed to sit in exam if his/her attendence is less than 75%.\n",
        "\n",
        "Take following input from user\n",
        "\n",
        "Number of classes held\n",
        "\n",
        "Number of classes attended.\n",
        "\n",
        "And print\n",
        "percentage of class attended\n",
        "\n",
        "Is student is allowed to sit in exam or not.\n"
      ],
      "metadata": {
        "id": "iu62kFtLSdAa"
      }
    },
    {
      "cell_type": "code",
      "source": [
        "nh=int(input('TOTAL NUMBER OF CLASSES HELD = '))\n",
        "na=int(input('TOTAL NUMBER OF CLASSES ATTENDED BY THE STUDENT = '))\n",
        "per=float((na/nh)*100)\n",
        "print('PERCENTAGE OF CLASS ATTENDED = ',per,'%')\n",
        "if(per<75):\n",
        "  print('THE STUDENT IS NOT ALLOWED TO SIT IN THE EXAM !')\n",
        "elif(per==75):\n",
        "  print('THE STUDENT IS ALLOWED TO SIT IN THE EXAM !')\n",
        "else:\n",
        "  print('THE STUDENT IS ALLOWED TO SIT IN THE EXAM !')"
      ],
      "metadata": {
        "colab": {
          "base_uri": "https://localhost:8080/"
        },
        "id": "ScutweBbTHiA",
        "outputId": "304924b1-3450-4ce5-d3fa-463add40b00a"
      },
      "execution_count": 12,
      "outputs": [
        {
          "output_type": "stream",
          "name": "stdout",
          "text": [
            "TOTAL NUMBER OF CLASSES HELD = 79\n",
            "TOTAL NUMBER OF CLASSES ATTENDED BY THE STUDENT = 70\n",
            "PERCENTAGE OF CLASS ATTENDED =  88.60759493670885 %\n",
            "THE STUDENT IS ALLOWED TO SIT IN THE EXAM !\n"
          ]
        }
      ]
    },
    {
      "cell_type": "markdown",
      "source": [
        "9. Traffic light:\n",
        "Write a python program that will check for the following conditions:\n",
        "\n",
        "If the light is green – Car is allowed to go\n",
        "\n",
        "If the light is yellow – Car has to wait\n",
        "\n",
        "If the light is red – Car has to stop\n"
      ],
      "metadata": {
        "id": "HV1w35ERWoGo"
      }
    },
    {
      "cell_type": "code",
      "source": [
        "light=str(input('THE COLOR OF THE TRAFFIC LIGHT IS : '))\n",
        "if(light=='green'):\n",
        "  print('CAR IS ALLOWED TO GO !')\n",
        "elif(light=='yellow'):\n",
        "  print('CAR HAS TO WAIT !')\n",
        "else:\n",
        "  print('CAR HAS TO STOP !')"
      ],
      "metadata": {
        "colab": {
          "base_uri": "https://localhost:8080/"
        },
        "id": "vVWK-f0_W5xt",
        "outputId": "4cffc24a-c747-4747-f7c5-c0fbf81c08c5"
      },
      "execution_count": 14,
      "outputs": [
        {
          "output_type": "stream",
          "name": "stdout",
          "text": [
            "THE COLOR OF THE TRAFFIC LIGHT IS : green\n",
            "CAR IS ALLOWED TO GO !\n"
          ]
        }
      ]
    }
  ]
}